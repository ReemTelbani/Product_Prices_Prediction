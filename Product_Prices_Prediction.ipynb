{
  "nbformat": 4,
  "nbformat_minor": 0,
  "metadata": {
    "accelerator": "GPU",
    "colab": {
      "name": "Product_Prices_Prediction.ipynb",
      "provenance": [],
      "collapsed_sections": []
    },
    "kernelspec": {
      "display_name": "Python 3",
      "name": "python3"
    },
    "language_info": {
      "name": "python"
    }
  },
  "cells": [
    {
      "cell_type": "markdown",
      "metadata": {
        "id": "RTHpn3b_nIhB"
      },
      "source": [
        "# **1.Problem:**\n",
        ">\n",
        "> **Regression Problem :**\n",
        ">\n",
        ">> Suggest product prices to online sellers? \n",
        ">\n",
        ">>predict the sale price of a listing based on information a user provides for this listing. \n",
        ">\n",
        ">>**Regression problem \n",
        "metrics :** mse , rmse\n",
        ">\n",
        "> **Steps :**\n",
        ">\n",
        ">>Collecting data\n",
        ">\n",
        ">>Run ml model\n",
        ">\n",
        ">>Make predictions\n",
        ">\n"
      ]
    },
    {
      "cell_type": "markdown",
      "metadata": {
        "id": "g2gsMtDBnw9e"
      },
      "source": [
        "# **Data Description:**\n",
        "\n",
        ">> train.tsv, test.tsv\n",
        ">\n",
        ">> The files consist of a list of product listings. These files are tab-delimited.\n",
        ">\n",
        ">> ## **Data fields:**\n",
        ">\n",
        ">> **train_id or test_id** - the id of the listing\n",
        ">\n",
        ">> **name** - the title of the listing. Note that we have cleaned the data to remove text that look like prices (e.g. 20 dollar) to avoid leakage. These removed prices are represented as [rm]\n",
        ">\n",
        ">> **item_condition_id** - the condition of the items provided by the seller\n",
        ">\n",
        ">> **category_name** - category of the listing\n",
        ">\n",
        ">> **brand_name**\n",
        ">\n",
        ">> **price** - the price that the item was sold for. **This is the target variable that you will predict** . The unit is USD. This column doesn't exist in test.tsv since that is what you will predict.\n",
        ">\n",
        ">> **shipping** - 1 if shipping fee is paid by seller and 0 by buyer\n",
        ">\n",
        ">> **item_description** - the full description of the item. Note that we have cleaned the data to remove text that look like prices (e.g. $20) to avoid leakage. These removed prices are represented as [rm]"
      ]
    },
    {
      "cell_type": "markdown",
      "metadata": {
        "id": "F7nG9MPrs-2n"
      },
      "source": [
        "# **Setup:**\n",
        "\n",
        "First, let's make sure this notebook works well in both python 2 and 3, import a few common modules, ensure MatplotLib plots figures inline and prepare a function to save the figures:"
      ]
    },
    {
      "cell_type": "code",
      "metadata": {
        "id": "xuR8dVHHKqk_"
      },
      "source": [
        "# To support both python 2 and python 3\n",
        "from __future__ import division, print_function, unicode_literals\n",
        "\n",
        "# Common imports\n",
        "import numpy as np\n",
        "import os\n",
        "\n",
        "# to make this notebook's output stable across runs\n",
        "np.random.seed(42)\n",
        "\n",
        "# To plot pretty figures\n",
        "%matplotlib inline\n",
        "import matplotlib as mpl\n",
        "import matplotlib.pyplot as plt\n",
        "mpl.rc('axes', labelsize=14)\n",
        "mpl.rc('xtick', labelsize=12)\n",
        "mpl.rc('ytick', labelsize=12)\n",
        "\n",
        "# Where to save the figures\n",
        "PROJECT_ROOT_DIR = \".\"\n",
        "CHAPTER_ID = \"\"\n",
        "#IMAGES_PATH = os.path.join(PROJECT_ROOT_DIR, \"images\", CHAPTER_ID)\n",
        "IMAGES_PATH = PROJECT_ROOT_DIR\n",
        "\n",
        "def save_fig(fig_id, tight_layout=True, fig_extension=\"png\", resolution=300):\n",
        "    path = os.path.join(IMAGES_PATH, fig_id + \".\" + fig_extension)\n",
        "    print(\"Saving figure\", fig_id)\n",
        "    if tight_layout:\n",
        "        plt.tight_layout()\n",
        "    plt.savefig(path, format=fig_extension, dpi=resolution)\n",
        "\n",
        "# Ignore useless warnings (see SciPy issue #5998)\n",
        "import warnings\n",
        "warnings.filterwarnings(action=\"ignore\", message=\"^internal gelsd\")"
      ],
      "execution_count": null,
      "outputs": []
    },
    {
      "cell_type": "markdown",
      "metadata": {
        "id": "GohcienjtK2Z"
      },
      "source": [
        "# **Import nedded packages:**"
      ]
    },
    {
      "cell_type": "code",
      "metadata": {
        "colab": {
          "base_uri": "https://localhost:8080/"
        },
        "id": "gAdRtvX0vAcm",
        "outputId": "babdaedc-25fd-49a7-866b-7c97e5a7403c"
      },
      "source": [
        "import pandas as pd\n",
        "import numpy as np\n",
        "import os\n",
        "\n",
        "from nltk.corpus import stopwords\n",
        "import string\n",
        "\n",
        "# example of random undersampling to balance the class distribution\n",
        "from collections import Counter\n",
        "from sklearn.datasets import make_classification\n",
        "from imblearn.under_sampling import RandomUnderSampler\n",
        "\n",
        "\n",
        "# example of random oversampling to balance the class distribution\n",
        "from collections import Counter\n",
        "from sklearn.datasets import make_classification\n",
        "from imblearn.over_sampling import RandomOverSampler\n",
        "\n",
        "from sklearn.preprocessing import LabelEncoder\n",
        "from sklearn.preprocessing import OrdinalEncoder\n",
        "\n",
        "from keras.utils import to_categorical\n",
        "\n",
        "\n",
        "from keras import models\n",
        "from keras import layers\n",
        "\n",
        "\n",
        "# To plot pretty figures\n",
        "%matplotlib inline\n",
        "import matplotlib as mpl\n",
        "import matplotlib.pyplot as plt\n",
        "\n",
        "import pickle\n",
        "\n",
        "from tensorflow.keras.models import load_model\n",
        "from keras.models import model_from_json\n",
        "import os\n"
      ],
      "execution_count": null,
      "outputs": [
        {
          "output_type": "stream",
          "text": [
            "/usr/local/lib/python3.7/dist-packages/sklearn/externals/six.py:31: FutureWarning: The module is deprecated in version 0.21 and will be removed in version 0.23 since we've dropped support for Python 2.7. Please rely on the official version of six (https://pypi.org/project/six/).\n",
            "  \"(https://pypi.org/project/six/).\", FutureWarning)\n",
            "/usr/local/lib/python3.7/dist-packages/sklearn/utils/deprecation.py:144: FutureWarning: The sklearn.neighbors.base module is  deprecated in version 0.22 and will be removed in version 0.24. The corresponding classes / functions should instead be imported from sklearn.neighbors. Anything that cannot be imported from sklearn.neighbors is now part of the private API.\n",
            "  warnings.warn(message, FutureWarning)\n"
          ],
          "name": "stderr"
        }
      ]
    },
    {
      "cell_type": "code",
      "metadata": {
        "colab": {
          "base_uri": "https://localhost:8080/"
        },
        "id": "DUa5e5qol_Aj",
        "outputId": "d764cf2d-1ba6-4f2f-cb49-af27d80e2341"
      },
      "source": [
        "# Install Kaggle API\n",
        "!pip install --quiet kaggle\n",
        "\n",
        "\n",
        "if '.kaggle' not in os.listdir('/root'):\n",
        "    !mkdir ~/.kaggle\n",
        "\n",
        "# !mkdir -p ~/.kaggle\n",
        "!cp /content/drive/MyDrive/Kaggle_json/kaggle.json ~/.kaggle/\n",
        "!chmod 600 /root/.kaggle/kaggle.json\n",
        "\n",
        "############################################\n",
        "!sudo apt-get install p7zip-full\n",
        "\n",
        "\n"
      ],
      "execution_count": null,
      "outputs": [
        {
          "output_type": "stream",
          "text": [
            "Reading package lists... Done\n",
            "Building dependency tree       \n",
            "Reading state information... Done\n",
            "p7zip-full is already the newest version (16.02+dfsg-6).\n",
            "The following package was automatically installed and is no longer required:\n",
            "  libnvidia-common-460\n",
            "Use 'sudo apt autoremove' to remove it.\n",
            "0 upgraded, 0 newly installed, 0 to remove and 34 not upgraded.\n"
          ],
          "name": "stdout"
        }
      ]
    },
    {
      "cell_type": "markdown",
      "metadata": {
        "id": "yxOCRwVJLY5b"
      },
      "source": [
        "# **2.Get the data:**\n"
      ]
    },
    {
      "cell_type": "code",
      "metadata": {
        "colab": {
          "base_uri": "https://localhost:8080/"
        },
        "id": "0dYCdaFwfiiP",
        "outputId": "c06d253f-99bb-47e2-a20b-af96b97711c5"
      },
      "source": [
        "# Get the dataset\n",
        "!kaggle competitions download -c mercari-price-suggestion-challenge\n",
        "!7za x train.tsv.7z"
      ],
      "execution_count": null,
      "outputs": [
        {
          "output_type": "stream",
          "text": [
            "Warning: Looks like you're using an outdated API Version, please consider updating (server 1.5.12 / client 1.5.4)\n",
            "Downloading sample_submission.csv.7z to /content\n",
            "  0% 0.00/170k [00:00<?, ?B/s]\n",
            "100% 170k/170k [00:00<00:00, 64.3MB/s]\n",
            "Downloading sample_submission_stg2.csv.zip to /content\n",
            " 64% 5.00M/7.77M [00:00<00:00, 45.2MB/s]\n",
            "100% 7.77M/7.77M [00:00<00:00, 49.2MB/s]\n",
            "Downloading train.tsv.7z to /content\n",
            " 87% 65.0M/74.3M [00:00<00:00, 61.1MB/s]\n",
            "100% 74.3M/74.3M [00:00<00:00, 95.4MB/s]\n",
            "Downloading test.tsv.7z to /content\n",
            " 56% 19.0M/34.0M [00:00<00:00, 41.6MB/s]\n",
            "100% 34.0M/34.0M [00:00<00:00, 75.5MB/s]\n",
            "Downloading test_stg2.tsv.zip to /content\n",
            " 95% 279M/294M [00:03<00:00, 85.7MB/s]\n",
            "100% 294M/294M [00:03<00:00, 81.4MB/s]\n",
            "\n",
            "7-Zip (a) [64] 16.02 : Copyright (c) 1999-2016 Igor Pavlov : 2016-05-21\n",
            "p7zip Version 16.02 (locale=en_US.UTF-8,Utf16=on,HugeFiles=on,64 bits,2 CPUs Intel(R) Xeon(R) CPU @ 2.30GHz (306F0),ASM,AES-NI)\n",
            "\n",
            "Scanning the drive for archives:\n",
            "  0M Scan\b\b\b\b\b\b\b\b\b         \b\b\b\b\b\b\b\b\b1 file, 77912192 bytes (75 MiB)\n",
            "\n",
            "Extracting archive: train.tsv.7z\n",
            "--\n",
            "Path = train.tsv.7z\n",
            "Type = 7z\n",
            "Physical Size = 77912192\n",
            "Headers Size = 122\n",
            "Method = LZMA2:24\n",
            "Solid = -\n",
            "Blocks = 1\n",
            "\n",
            "  0%\b\b\b\b    \b\b\b\b  3% - train.tsv\b\b\b\b\b\b\b\b\b\b\b\b\b\b\b\b                \b\b\b\b\b\b\b\b\b\b\b\b\b\b\b\b  7% - train.tsv\b\b\b\b\b\b\b\b\b\b\b\b\b\b\b\b                \b\b\b\b\b\b\b\b\b\b\b\b\b\b\b\b 11% - train.tsv\b\b\b\b\b\b\b\b\b\b\b\b\b\b\b\b                \b\b\b\b\b\b\b\b\b\b\b\b\b\b\b\b 16% - train.tsv\b\b\b\b\b\b\b\b\b\b\b\b\b\b\b\b                \b\b\b\b\b\b\b\b\b\b\b\b\b\b\b\b 19% - train.tsv\b\b\b\b\b\b\b\b\b\b\b\b\b\b\b\b                \b\b\b\b\b\b\b\b\b\b\b\b\b\b\b\b 23% - train.tsv\b\b\b\b\b\b\b\b\b\b\b\b\b\b\b\b                \b\b\b\b\b\b\b\b\b\b\b\b\b\b\b\b 28% - train.tsv\b\b\b\b\b\b\b\b\b\b\b\b\b\b\b\b                \b\b\b\b\b\b\b\b\b\b\b\b\b\b\b\b 32% - train.tsv\b\b\b\b\b\b\b\b\b\b\b\b\b\b\b\b                \b\b\b\b\b\b\b\b\b\b\b\b\b\b\b\b 36% - train.tsv\b\b\b\b\b\b\b\b\b\b\b\b\b\b\b\b                \b\b\b\b\b\b\b\b\b\b\b\b\b\b\b\b 39% - train.tsv\b\b\b\b\b\b\b\b\b\b\b\b\b\b\b\b                \b\b\b\b\b\b\b\b\b\b\b\b\b\b\b\b 43% - train.tsv\b\b\b\b\b\b\b\b\b\b\b\b\b\b\b\b                \b\b\b\b\b\b\b\b\b\b\b\b\b\b\b\b 47% - train.tsv\b\b\b\b\b\b\b\b\b\b\b\b\b\b\b\b                \b\b\b\b\b\b\b\b\b\b\b\b\b\b\b\b 50% - train.tsv\b\b\b\b\b\b\b\b\b\b\b\b\b\b\b\b                \b\b\b\b\b\b\b\b\b\b\b\b\b\b\b\b 55% - train.tsv\b\b\b\b\b\b\b\b\b\b\b\b\b\b\b\b                \b\b\b\b\b\b\b\b\b\b\b\b\b\b\b\b 59% - train.tsv\b\b\b\b\b\b\b\b\b\b\b\b\b\b\b\b                \b\b\b\b\b\b\b\b\b\b\b\b\b\b\b\b 62% - train.tsv\b\b\b\b\b\b\b\b\b\b\b\b\b\b\b\b                \b\b\b\b\b\b\b\b\b\b\b\b\b\b\b\b 67% - train.tsv\b\b\b\b\b\b\b\b\b\b\b\b\b\b\b\b                \b\b\b\b\b\b\b\b\b\b\b\b\b\b\b\b 70% - train.tsv\b\b\b\b\b\b\b\b\b\b\b\b\b\b\b\b                \b\b\b\b\b\b\b\b\b\b\b\b\b\b\b\b 75% - train.tsv\b\b\b\b\b\b\b\b\b\b\b\b\b\b\b\b                \b\b\b\b\b\b\b\b\b\b\b\b\b\b\b\b 79% - train.tsv\b\b\b\b\b\b\b\b\b\b\b\b\b\b\b\b                \b\b\b\b\b\b\b\b\b\b\b\b\b\b\b\b 83% - train.tsv\b\b\b\b\b\b\b\b\b\b\b\b\b\b\b\b                \b\b\b\b\b\b\b\b\b\b\b\b\b\b\b\b 87% - train.tsv\b\b\b\b\b\b\b\b\b\b\b\b\b\b\b\b                \b\b\b\b\b\b\b\b\b\b\b\b\b\b\b\b 91% - train.tsv\b\b\b\b\b\b\b\b\b\b\b\b\b\b\b\b                \b\b\b\b\b\b\b\b\b\b\b\b\b\b\b\b 95% - train.tsv\b\b\b\b\b\b\b\b\b\b\b\b\b\b\b\b                \b\b\b\b\b\b\b\b\b\b\b\b\b\b\b\b 99% - train.tsv\b\b\b\b\b\b\b\b\b\b\b\b\b\b\b\b                \b\b\b\b\b\b\b\b\b\b\b\b\b\b\b\bEverything is Ok\n",
            "\n",
            "Size:       337809843\n",
            "Compressed: 77912192\n"
          ],
          "name": "stdout"
        }
      ]
    },
    {
      "cell_type": "code",
      "metadata": {
        "id": "kSQAXBRnM95y"
      },
      "source": [
        "df = pd.read_csv(\"train.tsv\", sep='\\t')"
      ],
      "execution_count": null,
      "outputs": []
    },
    {
      "cell_type": "markdown",
      "metadata": {
        "id": "Rpjyz7JmLY7w"
      },
      "source": [
        "# **3.Discover and visualize the data to gain insights.**\n"
      ]
    },
    {
      "cell_type": "markdown",
      "metadata": {
        "id": "G9RhxgbswhWV"
      },
      "source": [
        "#### 1- Explore data"
      ]
    },
    {
      "cell_type": "code",
      "metadata": {
        "colab": {
          "base_uri": "https://localhost:8080/",
          "height": 394
        },
        "id": "UV302l7zwGUK",
        "outputId": "5562eae3-b6f8-4692-9db9-dd4ab2141125"
      },
      "source": [
        "df.sample(10)"
      ],
      "execution_count": null,
      "outputs": [
        {
          "output_type": "execute_result",
          "data": {
            "text/html": [
              "<div>\n",
              "<style scoped>\n",
              "    .dataframe tbody tr th:only-of-type {\n",
              "        vertical-align: middle;\n",
              "    }\n",
              "\n",
              "    .dataframe tbody tr th {\n",
              "        vertical-align: top;\n",
              "    }\n",
              "\n",
              "    .dataframe thead th {\n",
              "        text-align: right;\n",
              "    }\n",
              "</style>\n",
              "<table border=\"1\" class=\"dataframe\">\n",
              "  <thead>\n",
              "    <tr style=\"text-align: right;\">\n",
              "      <th></th>\n",
              "      <th>train_id</th>\n",
              "      <th>name</th>\n",
              "      <th>item_condition_id</th>\n",
              "      <th>category_name</th>\n",
              "      <th>brand_name</th>\n",
              "      <th>price</th>\n",
              "      <th>shipping</th>\n",
              "      <th>item_description</th>\n",
              "    </tr>\n",
              "  </thead>\n",
              "  <tbody>\n",
              "    <tr>\n",
              "      <th>777341</th>\n",
              "      <td>777341</td>\n",
              "      <td>F/ship 4 Totoro Washi + 1 pen</td>\n",
              "      <td>1</td>\n",
              "      <td>Handmade/Paper Goods/Stationery</td>\n",
              "      <td>NaN</td>\n",
              "      <td>12.0</td>\n",
              "      <td>1</td>\n",
              "      <td>This listing is for all 4 Totoro washi tape fo...</td>\n",
              "    </tr>\n",
              "    <tr>\n",
              "      <th>1463629</th>\n",
              "      <td>1463629</td>\n",
              "      <td>UCLA Men's Bundle + Shorts</td>\n",
              "      <td>1</td>\n",
              "      <td>Women/Other/Other</td>\n",
              "      <td>Adidas</td>\n",
              "      <td>76.0</td>\n",
              "      <td>1</td>\n",
              "      <td>7 items. 1: XL. 2: 2XL. 3:2XL. 4: XL. 5: 2XL. ...</td>\n",
              "    </tr>\n",
              "    <tr>\n",
              "      <th>350669</th>\n",
              "      <td>350669</td>\n",
              "      <td>Listing for lol</td>\n",
              "      <td>1</td>\n",
              "      <td>Beauty/Makeup/Lips</td>\n",
              "      <td>NaN</td>\n",
              "      <td>12.0</td>\n",
              "      <td>1</td>\n",
              "      <td>- sunglasses and necklace :)</td>\n",
              "    </tr>\n",
              "    <tr>\n",
              "      <th>310222</th>\n",
              "      <td>310222</td>\n",
              "      <td>25 pcs kawaii sticker flakes</td>\n",
              "      <td>1</td>\n",
              "      <td>Kids/Toys/Arts &amp; Crafts</td>\n",
              "      <td>NaN</td>\n",
              "      <td>3.0</td>\n",
              "      <td>1</td>\n",
              "      <td>I ordered a bunch of stickers so you will reci...</td>\n",
              "    </tr>\n",
              "    <tr>\n",
              "      <th>759257</th>\n",
              "      <td>759257</td>\n",
              "      <td>Chanel Mini Lipgloss Set</td>\n",
              "      <td>2</td>\n",
              "      <td>Beauty/Makeup/Lips</td>\n",
              "      <td>Chanel</td>\n",
              "      <td>30.0</td>\n",
              "      <td>1</td>\n",
              "      <td>Brand new never used authentic Mini Lipgloss g...</td>\n",
              "    </tr>\n",
              "    <tr>\n",
              "      <th>288846</th>\n",
              "      <td>288846</td>\n",
              "      <td>Maroon Foamposites</td>\n",
              "      <td>3</td>\n",
              "      <td>Men/Shoes/Fashion Sneakers</td>\n",
              "      <td>Nike</td>\n",
              "      <td>225.0</td>\n",
              "      <td>1</td>\n",
              "      <td>9/10 Condition N Sz 12</td>\n",
              "    </tr>\n",
              "    <tr>\n",
              "      <th>1178450</th>\n",
              "      <td>1178450</td>\n",
              "      <td>INC studdedHeart Black Blouse Dolman</td>\n",
              "      <td>2</td>\n",
              "      <td>Women/Tops &amp; Blouses/Blouse</td>\n",
              "      <td>INC International Concepts</td>\n",
              "      <td>16.0</td>\n",
              "      <td>1</td>\n",
              "      <td>New without tags INC International Concepts Sh...</td>\n",
              "    </tr>\n",
              "    <tr>\n",
              "      <th>726296</th>\n",
              "      <td>726296</td>\n",
              "      <td>Leggo silicone molds</td>\n",
              "      <td>3</td>\n",
              "      <td>Home/Kitchen &amp; Dining/Bakeware</td>\n",
              "      <td>NaN</td>\n",
              "      <td>12.0</td>\n",
              "      <td>0</td>\n",
              "      <td>I used these for my son's leggo birthday party...</td>\n",
              "    </tr>\n",
              "    <tr>\n",
              "      <th>840510</th>\n",
              "      <td>840510</td>\n",
              "      <td>Supreme Uzi Chain</td>\n",
              "      <td>1</td>\n",
              "      <td>Handmade/Accessories/Men</td>\n",
              "      <td>NaN</td>\n",
              "      <td>15.0</td>\n",
              "      <td>1</td>\n",
              "      <td>10/10 New</td>\n",
              "    </tr>\n",
              "    <tr>\n",
              "      <th>1473033</th>\n",
              "      <td>1473033</td>\n",
              "      <td>Women Gold Palm Pendant Necklace FC</td>\n",
              "      <td>1</td>\n",
              "      <td>Vintage &amp; Collectibles/Jewelry/Necklace</td>\n",
              "      <td>NaN</td>\n",
              "      <td>17.0</td>\n",
              "      <td>1</td>\n",
              "      <td>High quality Immediate purchase Ok? Free shipp...</td>\n",
              "    </tr>\n",
              "  </tbody>\n",
              "</table>\n",
              "</div>"
            ],
            "text/plain": [
              "         train_id  ...                                   item_description\n",
              "777341     777341  ...  This listing is for all 4 Totoro washi tape fo...\n",
              "1463629   1463629  ...  7 items. 1: XL. 2: 2XL. 3:2XL. 4: XL. 5: 2XL. ...\n",
              "350669     350669  ...                       - sunglasses and necklace :)\n",
              "310222     310222  ...  I ordered a bunch of stickers so you will reci...\n",
              "759257     759257  ...  Brand new never used authentic Mini Lipgloss g...\n",
              "288846     288846  ...                             9/10 Condition N Sz 12\n",
              "1178450   1178450  ...  New without tags INC International Concepts Sh...\n",
              "726296     726296  ...  I used these for my son's leggo birthday party...\n",
              "840510     840510  ...                                          10/10 New\n",
              "1473033   1473033  ...  High quality Immediate purchase Ok? Free shipp...\n",
              "\n",
              "[10 rows x 8 columns]"
            ]
          },
          "metadata": {
            "tags": []
          },
          "execution_count": 11
        }
      ]
    },
    {
      "cell_type": "markdown",
      "metadata": {
        "id": "QiBTo5xj1tpi"
      },
      "source": [
        "> **Comments:**\n",
        ">\n",
        ">> 1- \n",
        "we have to cleanisng any text data at the first , most of the columns contains special characters and emojies\n",
        ">\n",
        ">> 2- then we have to check unique values in each column "
      ]
    },
    {
      "cell_type": "markdown",
      "metadata": {
        "id": "6_zC1pALw1le"
      },
      "source": [
        "#### 2- Check the number of unique values in data."
      ]
    },
    {
      "cell_type": "code",
      "metadata": {
        "colab": {
          "base_uri": "https://localhost:8080/"
        },
        "id": "0sUa7mbOu2Cg",
        "outputId": "c57bdaaf-fac8-4281-d9e6-6f2b8df60891"
      },
      "source": [
        "#check for the number of unique values in each column\n",
        "df.iloc[:, :].nunique()"
      ],
      "execution_count": null,
      "outputs": [
        {
          "output_type": "execute_result",
          "data": {
            "text/plain": [
              "train_id             1482535\n",
              "name                 1225273\n",
              "item_condition_id          5\n",
              "category_name           1287\n",
              "brand_name              4809\n",
              "price                    828\n",
              "shipping                   2\n",
              "item_description     1281426\n",
              "dtype: int64"
            ]
          },
          "metadata": {
            "tags": []
          },
          "execution_count": 12
        }
      ]
    },
    {
      "cell_type": "markdown",
      "metadata": {
        "id": "cXURMBnQurxO"
      },
      "source": [
        "> **Comments:**\n",
        ">\n",
        ">> 1- we can check them again after cleansing\n",
        ">\n",
        ">> 2- onehot encoding item ocndition_id , category name , brand name "
      ]
    },
    {
      "cell_type": "markdown",
      "metadata": {
        "id": "tPvoBUs_xDF7"
      },
      "source": [
        "#### 3- Check For Duplicates"
      ]
    },
    {
      "cell_type": "code",
      "metadata": {
        "colab": {
          "base_uri": "https://localhost:8080/"
        },
        "id": "LisjNi4du1jJ",
        "outputId": "814bf014-e378-4a1c-f878-f055f6c9d5b6"
      },
      "source": [
        "#check for duplicates\n",
        "sum(df.duplicated())"
      ],
      "execution_count": null,
      "outputs": [
        {
          "output_type": "execute_result",
          "data": {
            "text/plain": [
              "0"
            ]
          },
          "metadata": {
            "tags": []
          },
          "execution_count": 13
        }
      ]
    },
    {
      "cell_type": "markdown",
      "metadata": {
        "id": "prOIygfbuqrL"
      },
      "source": [
        "> **Comments:**\n",
        ">\n",
        ">> there is no duplicates in the data\n"
      ]
    },
    {
      "cell_type": "code",
      "metadata": {
        "id": "ithSkgHgQIg-"
      },
      "source": [
        ""
      ],
      "execution_count": null,
      "outputs": []
    },
    {
      "cell_type": "markdown",
      "metadata": {
        "id": "P7yQP7PrxH5m"
      },
      "source": [
        "#### 4- Check for number of Null Values in each column"
      ]
    },
    {
      "cell_type": "code",
      "metadata": {
        "colab": {
          "base_uri": "https://localhost:8080/"
        },
        "id": "tl2IO-mHvBVu",
        "outputId": "e5d5eea9-bcd0-4f0f-f396-d85b678f200d"
      },
      "source": [
        "#check for null values in a dataset\n",
        "df.iloc[:, :].isnull().sum()"
      ],
      "execution_count": null,
      "outputs": [
        {
          "output_type": "execute_result",
          "data": {
            "text/plain": [
              "train_id                  0\n",
              "name                      0\n",
              "item_condition_id         0\n",
              "category_name          6327\n",
              "brand_name           632682\n",
              "price                     0\n",
              "shipping                  0\n",
              "item_description          4\n",
              "dtype: int64"
            ]
          },
          "metadata": {
            "tags": []
          },
          "execution_count": 14
        }
      ]
    },
    {
      "cell_type": "markdown",
      "metadata": {
        "id": "msOBYtegueLR"
      },
      "source": [
        "> **Comments:**\n",
        ">\n",
        ">> 1- category_name contains 6,327 null values out of 1,482,535\n",
        ">\n",
        ">> 2- brand_name contains  632,682 null values out of 1,482,535\n",
        "\n",
        "let's check these null values and try to fill them based on another information first \n"
      ]
    },
    {
      "cell_type": "markdown",
      "metadata": {
        "id": "bmN5u_FQLY-J"
      },
      "source": [
        "# **4.Prepare the data for Machine Learning algorithms.**\n"
      ]
    },
    {
      "cell_type": "markdown",
      "metadata": {
        "id": "dew2xspIxuja"
      },
      "source": [
        "data cleansing\n",
        "\n",
        "imputation \n",
        "\n",
        "splitting\n",
        "\n"
      ]
    },
    {
      "cell_type": "code",
      "metadata": {
        "colab": {
          "base_uri": "https://localhost:8080/",
          "height": 195
        },
        "id": "PlonoWIf09Sv",
        "outputId": "9f7996cf-c813-4eb4-e8f9-e4fc358fc8de"
      },
      "source": [
        "df.head()"
      ],
      "execution_count": null,
      "outputs": [
        {
          "output_type": "execute_result",
          "data": {
            "text/html": [
              "<div>\n",
              "<style scoped>\n",
              "    .dataframe tbody tr th:only-of-type {\n",
              "        vertical-align: middle;\n",
              "    }\n",
              "\n",
              "    .dataframe tbody tr th {\n",
              "        vertical-align: top;\n",
              "    }\n",
              "\n",
              "    .dataframe thead th {\n",
              "        text-align: right;\n",
              "    }\n",
              "</style>\n",
              "<table border=\"1\" class=\"dataframe\">\n",
              "  <thead>\n",
              "    <tr style=\"text-align: right;\">\n",
              "      <th></th>\n",
              "      <th>train_id</th>\n",
              "      <th>name</th>\n",
              "      <th>item_condition_id</th>\n",
              "      <th>category_name</th>\n",
              "      <th>brand_name</th>\n",
              "      <th>price</th>\n",
              "      <th>shipping</th>\n",
              "      <th>item_description</th>\n",
              "    </tr>\n",
              "  </thead>\n",
              "  <tbody>\n",
              "    <tr>\n",
              "      <th>0</th>\n",
              "      <td>0</td>\n",
              "      <td>MLB Cincinnati Reds T Shirt Size XL</td>\n",
              "      <td>3</td>\n",
              "      <td>Men/Tops/T-shirts</td>\n",
              "      <td>NaN</td>\n",
              "      <td>10.0</td>\n",
              "      <td>1</td>\n",
              "      <td>No description yet</td>\n",
              "    </tr>\n",
              "    <tr>\n",
              "      <th>1</th>\n",
              "      <td>1</td>\n",
              "      <td>Razer BlackWidow Chroma Keyboard</td>\n",
              "      <td>3</td>\n",
              "      <td>Electronics/Computers &amp; Tablets/Components &amp; P...</td>\n",
              "      <td>Razer</td>\n",
              "      <td>52.0</td>\n",
              "      <td>0</td>\n",
              "      <td>This keyboard is in great condition and works ...</td>\n",
              "    </tr>\n",
              "    <tr>\n",
              "      <th>2</th>\n",
              "      <td>2</td>\n",
              "      <td>AVA-VIV Blouse</td>\n",
              "      <td>1</td>\n",
              "      <td>Women/Tops &amp; Blouses/Blouse</td>\n",
              "      <td>Target</td>\n",
              "      <td>10.0</td>\n",
              "      <td>1</td>\n",
              "      <td>Adorable top with a hint of lace and a key hol...</td>\n",
              "    </tr>\n",
              "    <tr>\n",
              "      <th>3</th>\n",
              "      <td>3</td>\n",
              "      <td>Leather Horse Statues</td>\n",
              "      <td>1</td>\n",
              "      <td>Home/Home Décor/Home Décor Accents</td>\n",
              "      <td>NaN</td>\n",
              "      <td>35.0</td>\n",
              "      <td>1</td>\n",
              "      <td>New with tags. Leather horses. Retail for [rm]...</td>\n",
              "    </tr>\n",
              "    <tr>\n",
              "      <th>4</th>\n",
              "      <td>4</td>\n",
              "      <td>24K GOLD plated rose</td>\n",
              "      <td>1</td>\n",
              "      <td>Women/Jewelry/Necklaces</td>\n",
              "      <td>NaN</td>\n",
              "      <td>44.0</td>\n",
              "      <td>0</td>\n",
              "      <td>Complete with certificate of authenticity</td>\n",
              "    </tr>\n",
              "  </tbody>\n",
              "</table>\n",
              "</div>"
            ],
            "text/plain": [
              "   train_id  ...                                   item_description\n",
              "0         0  ...                                 No description yet\n",
              "1         1  ...  This keyboard is in great condition and works ...\n",
              "2         2  ...  Adorable top with a hint of lace and a key hol...\n",
              "3         3  ...  New with tags. Leather horses. Retail for [rm]...\n",
              "4         4  ...          Complete with certificate of authenticity\n",
              "\n",
              "[5 rows x 8 columns]"
            ]
          },
          "metadata": {
            "tags": []
          },
          "execution_count": 15
        }
      ]
    },
    {
      "cell_type": "markdown",
      "metadata": {
        "id": "5P2krzIm0eMD"
      },
      "source": [
        "#### Data Pre Processing"
      ]
    },
    {
      "cell_type": "code",
      "metadata": {
        "id": "kU4gAuqQ1VU6"
      },
      "source": [
        "#removing special characters\n",
        "df['name'] = df['name'].str.encode('ascii', 'ignore').str.decode('ascii')\n",
        "df['category_name'] = df['category_name'].str.encode('ascii', 'ignore').str.decode('ascii')\n",
        "df['brand_name'] = df['brand_name'].str.encode('ascii', 'ignore').str.decode('ascii')\n",
        "df['item_description'] = df['item_description'].str.encode('ascii', 'ignore').str.decode('ascii')\n",
        "\n",
        "\n",
        "#lower case all letters\n",
        "df['name'] = df['name'].str.lower()\n",
        "df['category_name'] = df['category_name'].str.lower()\n",
        "df['brand_name'] = df['brand_name'].str.lower()\n",
        "df['item_description'] = df['item_description'].str.lower()\n",
        "\n",
        "\n",
        "#lower case all letters\n",
        "df['name'] = df['name'].str.replace(r'[^\\w\\s]+', ' ')\n",
        "df['category_name'] = df['category_name'].str.replace(r'[^\\w\\s]+', ' ')\n",
        "df['brand_name'] = df['brand_name'].str.replace(r'[^\\w\\s]+', ' ')\n",
        "df['item_description'] = df['item_description'].str.replace(r'[^\\w\\s]+', ' ')"
      ],
      "execution_count": null,
      "outputs": []
    },
    {
      "cell_type": "markdown",
      "metadata": {
        "id": "cFLG8xIE9At6"
      },
      "source": [
        "#### check again number of unique values "
      ]
    },
    {
      "cell_type": "code",
      "metadata": {
        "colab": {
          "base_uri": "https://localhost:8080/"
        },
        "id": "7e74UsVJ9Lp6",
        "outputId": "31f6f12c-7f34-4243-8871-cb1049a738b7"
      },
      "source": [
        "#check for the number of unique values in each column\n",
        "df.iloc[:, :].nunique()"
      ],
      "execution_count": null,
      "outputs": [
        {
          "output_type": "execute_result",
          "data": {
            "text/plain": [
              "train_id             1482535\n",
              "name                 1133048\n",
              "item_condition_id          5\n",
              "category_name           1287\n",
              "brand_name              4807\n",
              "price                    828\n",
              "shipping                   2\n",
              "item_description     1269061\n",
              "dtype: int64"
            ]
          },
          "metadata": {
            "tags": []
          },
          "execution_count": 17
        }
      ]
    },
    {
      "cell_type": "markdown",
      "metadata": {
        "id": "tP-riaUL_iFk"
      },
      "source": [
        "#### Data Imputation"
      ]
    },
    {
      "cell_type": "code",
      "metadata": {
        "colab": {
          "base_uri": "https://localhost:8080/"
        },
        "id": "ssVk8spe_seM",
        "outputId": "ecb77f35-7d7f-4ac2-cc6b-6b6934ba10a5"
      },
      "source": [
        "df.isnull().sum()"
      ],
      "execution_count": null,
      "outputs": [
        {
          "output_type": "execute_result",
          "data": {
            "text/plain": [
              "train_id                  0\n",
              "name                      0\n",
              "item_condition_id         0\n",
              "category_name          6327\n",
              "brand_name           632682\n",
              "price                     0\n",
              "shipping                  0\n",
              "item_description          4\n",
              "dtype: int64"
            ]
          },
          "metadata": {
            "tags": []
          },
          "execution_count": 18
        }
      ]
    },
    {
      "cell_type": "markdown",
      "metadata": {
        "id": "v3Yi2gkZcwXn"
      },
      "source": [
        "filling nulls by predicting th enulls values in the column of category name and brand name using the rest of the values"
      ]
    },
    {
      "cell_type": "code",
      "metadata": {
        "id": "jp_aWVnqclhd"
      },
      "source": [
        "# law feh product malhoush wala category feha null mesh hanakhdouh m3ana fel e3tbar\n",
        "result_1 = df.groupby(['name'])['category_name'].apply(lambda x: x.isnull().sum())"
      ],
      "execution_count": null,
      "outputs": []
    },
    {
      "cell_type": "code",
      "metadata": {
        "colab": {
          "background_save": true
        },
        "id": "vimBfgnvct3B",
        "outputId": "1875672d-d4ac-435c-b48e-1f08f15095f8"
      },
      "source": [
        "#dool keda asamy el categories ely etla2a feha ya null wa7da ya aktaar \n",
        "names_of_products_1 = result_1[result_1 >0].index\n",
        "print(\"Names of products 1: \",len(names_of_products_1))# e3rafly gowa kol product , feh kam brand feha nulls gowa\n",
        "# law feh product malhoush wala brand feha null mesh hanakhdouh m3ana fel e3tbar\n",
        "result_2 = df.groupby(['name'])['brand_name'].apply(lambda x: x.isnull().sum())\n",
        "\n",
        "names_of_products_2 = result_2[result_2 >0].index\n",
        "print(\"Names of products 2: \",len(names_of_products_2))"
      ],
      "execution_count": null,
      "outputs": [
        {
          "output_type": "stream",
          "text": [
            "Names of products 1:  6088\n"
          ],
          "name": "stdout"
        }
      ]
    },
    {
      "cell_type": "code",
      "metadata": {
        "colab": {
          "background_save": true,
          "base_uri": "https://localhost:8080/",
          "height": 370
        },
        "id": "HBUfcK2lpl6m",
        "outputId": "526d0111-2f8b-4af2-ab6e-a97514705378"
      },
      "source": [
        "products_List= list(set(names_of_products_1) | set(names_of_products_2))\n",
        "print(len(products_List))\n",
        "\n",
        "df_selected = df[df['name'].isin(products_List)]"
      ],
      "execution_count": null,
      "outputs": [
        {
          "output_type": "stream",
          "text": [
            "Names of products 2:  520877\n",
            "523154\n"
          ],
          "name": "stdout"
        }
      ]
    },
    {
      "cell_type": "code",
      "metadata": {
        "id": "-iWFPVByXZZs"
      },
      "source": [
        "del result_1\n",
        "del result_2\n",
        "del names_of_products_1\n",
        "del names_of_products_2\n",
        "del df"
      ],
      "execution_count": null,
      "outputs": []
    },
    {
      "cell_type": "markdown",
      "metadata": {
        "id": "J0F60wAscdbX"
      },
      "source": [
        "label encoding some the \"name feature\""
      ]
    },
    {
      "cell_type": "code",
      "metadata": {
        "id": "j7sztpg3FKvM"
      },
      "source": [
        "#label encoding\n",
        "Labelencoder = LabelEncoder()\n",
        "encoder = OrdinalEncoder()\n",
        "\n",
        "# Encoding data\n",
        "df_selected[\"item_condition_id\"] = encoder.fit_transform(df_selected[\"item_condition_id\"].values.reshape(-1, 1))\n",
        "\n",
        "numeric_f = [\"price\"]\n",
        "df_selected[numeric_f] = df_selected[numeric_f].apply(lambda x: (x-x.mean())/ x.std(), axis=0)\n",
        "\n",
        "pickle.dump( df_selected, open( \"/content/drive/MyDrive/Machine_Learning_Assignments_datasets/assignmnet3_pickles/df_selected2.p\", \"wb\" ) )"
      ],
      "execution_count": null,
      "outputs": []
    },
    {
      "cell_type": "code",
      "metadata": {
        "id": "AqiiJWxGsG_i"
      },
      "source": [
        "#import data\n",
        "df_selected = pickle.load( open(\"/content/drive/MyDrive/Machine_Learning_Assignments_datasets/assignmnet3_pickles/df_selected2.p\", 'rb')) #load bac"
      ],
      "execution_count": null,
      "outputs": []
    },
    {
      "cell_type": "code",
      "metadata": {
        "id": "0rmWbuMM914M"
      },
      "source": [
        "#split_data\n",
        "list1 = df_selected[df_selected['category_name'].notna()].sample(20000, random_state=10).index"
      ],
      "execution_count": null,
      "outputs": []
    },
    {
      "cell_type": "code",
      "metadata": {
        "colab": {
          "base_uri": "https://localhost:8080/"
        },
        "id": "A8AZ6mvOtxD3",
        "outputId": "2666cd46-8bb3-4f08-e323-e561f4415003"
      },
      "source": [
        "list2 = df_selected[df_selected['category_name'].isna()].index\n",
        "\n",
        "\n",
        "list1 = list1.tolist()\n",
        "list2 = list2.tolist()\n",
        "list3= list(set(list2) | set(list1))\n",
        "\n",
        "print(len(list1))\n",
        "print(len(list2))\n",
        "print(len(list3))\n",
        "\n",
        "df_selected_new = df_selected.loc[list3,:]\n",
        "\n",
        "del df_selected\n",
        "\n",
        "df_selected_new = pd.get_dummies(df_selected_new, columns=[\"name\"], prefix=[\"name_is\"])"
      ],
      "execution_count": null,
      "outputs": [
        {
          "output_type": "stream",
          "text": [
            "20000\n",
            "6327\n",
            "26327\n"
          ],
          "name": "stdout"
        }
      ]
    },
    {
      "cell_type": "code",
      "metadata": {
        "id": "NmLsqGQCXQTT"
      },
      "source": [
        "pickle.dump( df_selected_new, open( \"/content/drive/MyDrive/Machine_Learning_Assignments_datasets/assignmnet3_pickles/df_selected_new.p\", \"wb\" ) )\n",
        "\n",
        "#import data\n",
        "#df_selected_sample = pickle.load( open(\"/content/drive/MyDrive/Machine_Learning_Assignments_datasets/assignmnet3_pickles/df_selected_sample.p\", 'rb')) #load bac"
      ],
      "execution_count": null,
      "outputs": []
    },
    {
      "cell_type": "code",
      "metadata": {
        "id": "PGkCGrUNcZPs"
      },
      "source": [
        "#split_data\n",
        "df_p_category_train = df_selected_new[df_selected_new['category_name'].notna()]\n",
        "df_p_category_test = df_selected_new[df_selected_new['category_name'].isna()]\n",
        "\n",
        "pickle.dump( df_p_category_train, open( \"/content/drive/MyDrive/Machine_Learning_Assignments_datasets/assignmnet3_pickles/df_p_category_train.p\", \"wb\" ) )\n",
        "pickle.dump( df_p_category_test, open( \"/content/drive/MyDrive/Machine_Learning_Assignments_datasets/assignmnet3_pickles/df_p_category_test.p\", \"wb\" ) )"
      ],
      "execution_count": null,
      "outputs": []
    },
    {
      "cell_type": "code",
      "metadata": {
        "id": "L9uHQExqCa3V"
      },
      "source": [
        "#import data\n",
        "#df_p_category_train = pickle.load( open(\"/content/drive/MyDrive/Machine_Learning_Assignments_datasets/assignmnet3_pickles/df_p_category_train.p\", 'rb')) #load bac\n",
        "#df_p_category_test = pickle.load( open( \"/content/drive/MyDrive/Machine_Learning_Assignments_datasets/assignmnet3_pickles/df_p_category_test.p\", 'rb')) #load bac"
      ],
      "execution_count": null,
      "outputs": []
    },
    {
      "cell_type": "code",
      "metadata": {
        "colab": {
          "base_uri": "https://localhost:8080/"
        },
        "id": "jNjWB9unegnj",
        "outputId": "540697ab-dd8d-4cc8-b39c-11b0c8905ca4"
      },
      "source": [
        "#label encoding\n",
        "Labelencoder = LabelEncoder()\n",
        "encoder = OrdinalEncoder()\n",
        "\n",
        "df_p_category_train[\"category_name_num\"] = Labelencoder.fit_transform(df_p_category_train[\"category_name\"])\n",
        "\n",
        "look_up_table_1 = df_p_category_train[[\"train_id\", \"category_name\", \"category_name_num\", \"item_description\" ]]\n",
        "\n",
        "pickle.dump( look_up_table_1, open( \"/content/drive/MyDrive/Machine_Learning_Assignments_datasets/assignmnet3_pickles/look_up_table_1.p\", \"wb\" ) )\n"
      ],
      "execution_count": null,
      "outputs": [
        {
          "output_type": "stream",
          "text": [
            "/usr/local/lib/python3.7/dist-packages/ipykernel_launcher.py:5: SettingWithCopyWarning: \n",
            "A value is trying to be set on a copy of a slice from a DataFrame.\n",
            "Try using .loc[row_indexer,col_indexer] = value instead\n",
            "\n",
            "See the caveats in the documentation: https://pandas.pydata.org/pandas-docs/stable/user_guide/indexing.html#returning-a-view-versus-a-copy\n",
            "  \"\"\"\n"
          ],
          "name": "stderr"
        }
      ]
    },
    {
      "cell_type": "code",
      "metadata": {
        "id": "kFflPC-qZdoD"
      },
      "source": [
        "#import data\n",
        "#look_up_table_1 = pickle.load( open(\"/content/drive/MyDrive/Machine_Learning_Assignments_datasets/assignmnet3_pickles/look_up_table_1.p\", 'rb')) #load bac\n",
        "\n",
        "df_p_category_train = df_p_category_train.drop(columns=[ \"train_id\",\"item_description\" , \"category_name\",\"brand_name\"])\n",
        "df_p_category_test =  df_p_category_test.drop( columns=[ \"train_id\",\"item_description\" , \"category_name\",\"brand_name\"])\n",
        "\n",
        "\n",
        "train_category_X = df_p_category_train.iloc[:,:-1].values\n",
        "#train_category_X = scipy.sparse.csr_matrix(df_p_category_train.iloc[:,:-1].values)\n",
        "pickle.dump( train_category_X, open( \"/content/drive/MyDrive/Machine_Learning_Assignments_datasets/assignmnet3_pickles/train_category_X.p\", \"wb\" ) )\n",
        "\n",
        "train_category_y = df_p_category_train[\"category_name_num\"].values\n",
        "pickle.dump( train_category_y, open( \"/content/drive/MyDrive/Machine_Learning_Assignments_datasets/assignmnet3_pickles/train_category_y.p\", \"wb\" ) )\n",
        "\n",
        "test_category_X =  df_p_category_test.values\n",
        "pickle.dump( test_category_X, open( \"/content/drive/MyDrive/Machine_Learning_Assignments_datasets/assignmnet3_pickles/test_category_X.p\", \"wb\" ) )\n",
        "#test_category_y =\n",
        "\n",
        "\n",
        "#pickle.dump( test_category_X, open( \"/content/drive/MyDrive/Machine_Learning_Assignments_datasets/assignmnet3_pickles/test_category_X.p\", \"wb\" ) )"
      ],
      "execution_count": null,
      "outputs": []
    },
    {
      "cell_type": "code",
      "metadata": {
        "colab": {
          "base_uri": "https://localhost:8080/"
        },
        "id": "qB-nN9KanHgT",
        "outputId": "7e8cc14d-ecf1-4813-93d0-f9fedc413c68"
      },
      "source": [
        "print(df_p_category_train.shape)\n",
        "print(df_p_category_test.shape)\n",
        "\n",
        "df_p_category_train[\"category_name_num\"].nunique()\n",
        "\n",
        "print(df_p_category_train.shape)\n",
        "\n",
        "print(train_category_X.shape)\n",
        "print(train_category_y.shape)\n",
        "print(test_category_X.shape)\n",
        "\n",
        "\n",
        "\n",
        "train_category_y = to_categorical(train_category_y)\n",
        "test_category_y = 0\n",
        "\n",
        "\n",
        "print(len(train_category_y))\n",
        "\n",
        "\n",
        "print(train_category_X.shape)\n",
        "print(train_category_y.shape)\n",
        "\n",
        "pickle.dump( train_category_y, open( \"/content/drive/MyDrive/Machine_Learning_Assignments_datasets/assignmnet3_pickles/train_category_y.p\", \"wb\" ) )\n",
        "\n",
        "pickle.dump( df_p_category_train, open( \"/content/drive/MyDrive/Machine_Learning_Assignments_datasets/assignmnet3_pickles/df_p_category_train.p\", \"wb\" ) )\n",
        "pickle.dump( df_p_category_test, open( \"/content/drive/MyDrive/Machine_Learning_Assignments_datasets/assignmnet3_pickles/df_p_category_test.p\", \"wb\" ) )\n",
        "pickle.dump( df_selected_new, open( \"/content/drive/MyDrive/Machine_Learning_Assignments_datasets/assignmnet3_pickles/df_selected_new.p\", \"wb\" ) )\n",
        "pickle.dump( look_up_table_1, open( \"/content/drive/MyDrive/Machine_Learning_Assignments_datasets/assignmnet3_pickles/look_up_table_1.p\", \"wb\" ) )"
      ],
      "execution_count": null,
      "outputs": [
        {
          "output_type": "stream",
          "text": [
            "(20000, 23715)\n",
            "(6327, 23714)\n",
            "(20000, 23715)\n",
            "(20000, 23714)\n",
            "(20000,)\n",
            "(6327, 23714)\n",
            "20000\n",
            "(20000, 23714)\n",
            "(20000, 790)\n"
          ],
          "name": "stdout"
        }
      ]
    },
    {
      "cell_type": "code",
      "metadata": {
        "id": "h2ChV8kequeN"
      },
      "source": [
        "del df_p_category_train\n",
        "del df_p_category_test\n",
        "del df_selected_new\n",
        "del look_up_table_1"
      ],
      "execution_count": null,
      "outputs": []
    },
    {
      "cell_type": "code",
      "metadata": {
        "colab": {
          "base_uri": "https://localhost:8080/"
        },
        "id": "rkacf8nrpDkS",
        "outputId": "8d7598d4-56f4-4332-c348-9759c4d4c571"
      },
      "source": [
        "network1 = models.Sequential()\n",
        "network1.add(layers.Dense(512, activation='relu', name='Layer_1', input_shape=(23714,)))\n",
        "network1.add(layers.Dense(512, activation='relu', name='Layer_2'))\n",
        "network1.add(layers.Dense(512, activation='relu', name='Layer_3'))\n",
        "network1.add(layers.Dense(512, activation='relu', name='Layer_4'))\n",
        "network1.add(layers.Dense(512, activation='relu', name='Layer_5'))\n",
        "network1.add(layers.Dense(512, activation='relu', name='Layer_6'))\n",
        "network1.add(layers.Dense(790, activation = 'softmax'))  # this is the output layer\n",
        "print(network1.summary())"
      ],
      "execution_count": null,
      "outputs": [
        {
          "output_type": "stream",
          "text": [
            "Model: \"sequential_1\"\n",
            "_________________________________________________________________\n",
            "Layer (type)                 Output Shape              Param #   \n",
            "=================================================================\n",
            "Layer_1 (Dense)              (None, 512)               12142080  \n",
            "_________________________________________________________________\n",
            "Layer_2 (Dense)              (None, 512)               262656    \n",
            "_________________________________________________________________\n",
            "Layer_3 (Dense)              (None, 512)               262656    \n",
            "_________________________________________________________________\n",
            "Layer_4 (Dense)              (None, 512)               262656    \n",
            "_________________________________________________________________\n",
            "Layer_5 (Dense)              (None, 512)               262656    \n",
            "_________________________________________________________________\n",
            "Layer_6 (Dense)              (None, 512)               262656    \n",
            "_________________________________________________________________\n",
            "dense_1 (Dense)              (None, 790)               405270    \n",
            "=================================================================\n",
            "Total params: 13,860,630\n",
            "Trainable params: 13,860,630\n",
            "Non-trainable params: 0\n",
            "_________________________________________________________________\n",
            "None\n"
          ],
          "name": "stdout"
        }
      ]
    },
    {
      "cell_type": "code",
      "metadata": {
        "id": "GE6pomG-pI9O"
      },
      "source": [
        "network1.compile(optimizer='rmsprop',\n",
        "                loss='categorical_crossentropy',\n",
        "                metrics=['accuracy'])"
      ],
      "execution_count": null,
      "outputs": []
    },
    {
      "cell_type": "code",
      "metadata": {
        "colab": {
          "base_uri": "https://localhost:8080/",
          "height": 162
        },
        "id": "E1v37zrq-c4v",
        "outputId": "c892c006-570e-4b7b-952b-5eae9439dbe1"
      },
      "source": [
        "del all_variables"
      ],
      "execution_count": null,
      "outputs": [
        {
          "output_type": "error",
          "ename": "NameError",
          "evalue": "ignored",
          "traceback": [
            "\u001b[0;31m---------------------------------------------------------------------------\u001b[0m",
            "\u001b[0;31mNameError\u001b[0m                                 Traceback (most recent call last)",
            "\u001b[0;32m<ipython-input-19-c19ca975f582>\u001b[0m in \u001b[0;36m<module>\u001b[0;34m()\u001b[0m\n\u001b[0;32m----> 1\u001b[0;31m \u001b[0;32mdel\u001b[0m \u001b[0mall_variables\u001b[0m\u001b[0;34m\u001b[0m\u001b[0;34m\u001b[0m\u001b[0m\n\u001b[0m",
            "\u001b[0;31mNameError\u001b[0m: name 'all_variables' is not defined"
          ]
        }
      ]
    },
    {
      "cell_type": "code",
      "metadata": {
        "colab": {
          "base_uri": "https://localhost:8080/"
        },
        "id": "E-sIpzDrFup-",
        "outputId": "0aa91bc2-8589-4658-b9e0-9e1f27f79628"
      },
      "source": [
        "network1.fit(train_category_X, train_category_y , epochs=50, batch_size=128)"
      ],
      "execution_count": null,
      "outputs": [
        {
          "output_type": "stream",
          "text": [
            "Epoch 1/50\n",
            "157/157 [==============================] - 29s 179ms/step - loss: 5.7964 - accuracy: 0.0280\n",
            "Epoch 2/50\n",
            "157/157 [==============================] - 28s 179ms/step - loss: 5.2705 - accuracy: 0.0459\n",
            "Epoch 3/50\n",
            "157/157 [==============================] - 28s 180ms/step - loss: 4.7850 - accuracy: 0.0538\n",
            "Epoch 4/50\n",
            "157/157 [==============================] - 28s 181ms/step - loss: 4.4014 - accuracy: 0.0815\n",
            "Epoch 5/50\n",
            "157/157 [==============================] - 28s 181ms/step - loss: 4.0670 - accuracy: 0.1057\n",
            "Epoch 6/50\n",
            "157/157 [==============================] - 28s 180ms/step - loss: 3.7344 - accuracy: 0.1509\n",
            "Epoch 7/50\n",
            "157/157 [==============================] - 29s 182ms/step - loss: 3.3711 - accuracy: 0.2055\n",
            "Epoch 8/50\n",
            "157/157 [==============================] - 29s 182ms/step - loss: 3.0469 - accuracy: 0.2643\n",
            "Epoch 9/50\n",
            "157/157 [==============================] - 28s 181ms/step - loss: 2.7073 - accuracy: 0.3394\n",
            "Epoch 10/50\n",
            "157/157 [==============================] - 28s 181ms/step - loss: 2.4597 - accuracy: 0.3971\n",
            "Epoch 11/50\n",
            "157/157 [==============================] - 29s 182ms/step - loss: 2.1846 - accuracy: 0.4524\n",
            "Epoch 12/50\n",
            "157/157 [==============================] - 28s 181ms/step - loss: 1.9377 - accuracy: 0.5117\n",
            "Epoch 13/50\n",
            "157/157 [==============================] - 28s 179ms/step - loss: 1.7465 - accuracy: 0.5555\n",
            "Epoch 14/50\n",
            "157/157 [==============================] - 28s 179ms/step - loss: 1.5782 - accuracy: 0.5906\n",
            "Epoch 15/50\n",
            "157/157 [==============================] - 28s 180ms/step - loss: 1.4196 - accuracy: 0.6234\n",
            "Epoch 16/50\n",
            "157/157 [==============================] - 28s 179ms/step - loss: 1.2581 - accuracy: 0.6634\n",
            "Epoch 17/50\n",
            "157/157 [==============================] - 28s 180ms/step - loss: 1.1455 - accuracy: 0.6997\n",
            "Epoch 18/50\n",
            "157/157 [==============================] - 28s 180ms/step - loss: 1.0520 - accuracy: 0.7263\n",
            "Epoch 19/50\n",
            "157/157 [==============================] - 28s 180ms/step - loss: 0.9649 - accuracy: 0.7478\n",
            "Epoch 20/50\n",
            "157/157 [==============================] - 30s 188ms/step - loss: 0.8361 - accuracy: 0.7764\n",
            "Epoch 21/50\n",
            "157/157 [==============================] - 28s 180ms/step - loss: 0.7661 - accuracy: 0.8012\n",
            "Epoch 22/50\n",
            "157/157 [==============================] - 28s 180ms/step - loss: 0.7212 - accuracy: 0.8106\n",
            "Epoch 23/50\n",
            "157/157 [==============================] - 28s 180ms/step - loss: 0.6517 - accuracy: 0.8315\n",
            "Epoch 24/50\n",
            "157/157 [==============================] - 28s 180ms/step - loss: 0.5885 - accuracy: 0.8451\n",
            "Epoch 25/50\n",
            "157/157 [==============================] - 28s 180ms/step - loss: 0.5605 - accuracy: 0.8501\n",
            "Epoch 26/50\n",
            "157/157 [==============================] - 28s 180ms/step - loss: 0.5154 - accuracy: 0.8633\n",
            "Epoch 27/50\n",
            "157/157 [==============================] - 28s 180ms/step - loss: 0.4864 - accuracy: 0.8719\n",
            "Epoch 28/50\n",
            "157/157 [==============================] - 28s 180ms/step - loss: 0.4716 - accuracy: 0.8745\n",
            "Epoch 29/50\n",
            "157/157 [==============================] - 28s 180ms/step - loss: 0.4430 - accuracy: 0.8821\n",
            "Epoch 30/50\n",
            "157/157 [==============================] - 28s 180ms/step - loss: 0.4334 - accuracy: 0.8830\n",
            "Epoch 31/50\n",
            "157/157 [==============================] - 28s 180ms/step - loss: 0.4058 - accuracy: 0.8897\n",
            "Epoch 32/50\n",
            "157/157 [==============================] - 28s 180ms/step - loss: 0.3986 - accuracy: 0.8937\n",
            "Epoch 33/50\n",
            "157/157 [==============================] - 28s 180ms/step - loss: 0.3786 - accuracy: 0.9026\n",
            "Epoch 34/50\n",
            "157/157 [==============================] - 28s 180ms/step - loss: 0.3715 - accuracy: 0.9051\n",
            "Epoch 35/50\n",
            "157/157 [==============================] - 28s 180ms/step - loss: 0.3303 - accuracy: 0.9076\n",
            "Epoch 36/50\n",
            "157/157 [==============================] - 28s 180ms/step - loss: 0.3401 - accuracy: 0.9084\n",
            "Epoch 37/50\n",
            "157/157 [==============================] - 28s 179ms/step - loss: 0.3087 - accuracy: 0.9167\n",
            "Epoch 38/50\n",
            "157/157 [==============================] - 28s 179ms/step - loss: 0.3034 - accuracy: 0.9210\n",
            "Epoch 39/50\n",
            "157/157 [==============================] - 28s 180ms/step - loss: 0.3193 - accuracy: 0.9156\n",
            "Epoch 40/50\n",
            "157/157 [==============================] - 29s 186ms/step - loss: 0.2805 - accuracy: 0.9227\n",
            "Epoch 41/50\n",
            "157/157 [==============================] - 29s 183ms/step - loss: 0.2873 - accuracy: 0.9273\n",
            "Epoch 42/50\n",
            "157/157 [==============================] - 28s 179ms/step - loss: 0.2478 - accuracy: 0.9329\n",
            "Epoch 43/50\n",
            "157/157 [==============================] - 28s 180ms/step - loss: 0.2701 - accuracy: 0.9264\n",
            "Epoch 44/50\n",
            "157/157 [==============================] - 28s 180ms/step - loss: 0.2389 - accuracy: 0.9343\n",
            "Epoch 45/50\n",
            "157/157 [==============================] - 28s 180ms/step - loss: 0.2368 - accuracy: 0.9355\n",
            "Epoch 46/50\n",
            "157/157 [==============================] - 28s 179ms/step - loss: 0.2466 - accuracy: 0.9335\n",
            "Epoch 47/50\n",
            "157/157 [==============================] - 28s 180ms/step - loss: 0.2391 - accuracy: 0.9361\n",
            "Epoch 48/50\n",
            "157/157 [==============================] - 28s 180ms/step - loss: 0.2143 - accuracy: 0.9431\n",
            "Epoch 49/50\n",
            "157/157 [==============================] - 28s 181ms/step - loss: 0.2240 - accuracy: 0.9432\n",
            "Epoch 50/50\n",
            "157/157 [==============================] - 28s 179ms/step - loss: 0.2308 - accuracy: 0.9433\n"
          ],
          "name": "stdout"
        },
        {
          "output_type": "execute_result",
          "data": {
            "text/plain": [
              "<tensorflow.python.keras.callbacks.History at 0x7f0ee7582e50>"
            ]
          },
          "metadata": {
            "tags": []
          },
          "execution_count": 18
        }
      ]
    },
    {
      "cell_type": "code",
      "metadata": {
        "colab": {
          "base_uri": "https://localhost:8080/"
        },
        "id": "9QAbF-j_CzXs",
        "outputId": "2c6c7648-4dc3-4af1-e92d-d192fabcf3c8"
      },
      "source": [
        "# serialize model to JSON\n",
        "model_json = network1.to_json()\n",
        "with open(\"/content/drive/MyDrive/Machine_Learning_Assignments_datasets/assignmnet3_pickles/network1.json\", \"w\") as json_file:\n",
        "    json_file.write(model_json)\n",
        "\n",
        "# serialize weights to HDF5\n",
        "network1.save_weights(\"/content/drive/MyDrive/Machine_Learning_Assignments_datasets/assignmnet3_pickles/network1.h5\")\n",
        "print(\"Saved model to disk\")"
      ],
      "execution_count": null,
      "outputs": [
        {
          "output_type": "stream",
          "text": [
            "Saved model to disk\n"
          ],
          "name": "stdout"
        }
      ]
    },
    {
      "cell_type": "code",
      "metadata": {
        "id": "w9DOissstNDF"
      },
      "source": [
        "#network1=load_model(\"/content/drive/MyDrive/Machine_Learning_Assignments_datasets/assignmnet3_pickles/network1.h5\")"
      ],
      "execution_count": null,
      "outputs": []
    },
    {
      "cell_type": "code",
      "metadata": {
        "colab": {
          "base_uri": "https://localhost:8080/"
        },
        "id": "MtB6HPNoCwmG",
        "outputId": "c492a9b0-e65a-4245-c690-5cec4b344d15"
      },
      "source": [
        "#import data\n",
        "df_p_category_test = pickle.load( open(\"/content/drive/MyDrive/Machine_Learning_Assignments_datasets/assignmnet3_pickles/df_p_category_test.p\", 'rb')) #load bac\n",
        "look_up_table_1 = pickle.load( open(\"/content/drive/MyDrive/Machine_Learning_Assignments_datasets/assignmnet3_pickles/look_up_table_1.p\", 'rb')) #load bac\n",
        "\n",
        "\n",
        "\n",
        "# evaluate the model\n",
        "scores = network1.evaluate(train_category_X, train_category_y, verbose=0)\n",
        "print(\"%s: %.2f%%\" % (network1.metrics_names[1], scores[1]*100))\n",
        "\n",
        "\n",
        "del scores\n",
        "\n",
        "del train_category_X \n",
        "del train_category_y"
      ],
      "execution_count": null,
      "outputs": [
        {
          "output_type": "stream",
          "text": [
            "accuracy: 93.20%\n"
          ],
          "name": "stdout"
        }
      ]
    },
    {
      "cell_type": "code",
      "metadata": {
        "id": "gW1D9ije7RtJ"
      },
      "source": [
        "df_p_category_test[\"predicted_category_name\"]= \"\"\n",
        "for i in range(df_p_category_test.shape[0]):\n",
        "  row = test_category_X[i]\n",
        "  predictd_value = np.argmax(network1.predict(np.reshape(row, (1,23714))))\n",
        "  df_p_category_test.iloc[i,-1] = look_up_table_1.loc[look_up_table_1.category_name_num == predictd_value, 'category_name'].unique()[0]\n",
        "\n",
        "pickle.dump( df_p_category_test, open( \"/content/drive/MyDrive/Machine_Learning_Assignments_datasets/assignmnet3_pickles/df_p_category_test_predicted.p\", \"wb\" ) )\n"
      ],
      "execution_count": null,
      "outputs": []
    },
    {
      "cell_type": "code",
      "metadata": {
        "id": "5GUDY0AF9Zuu"
      },
      "source": [
        "#pickle.dump( df_selected_new, open( \"/content/drive/MyDrive/Machine_Learning_Assignments_datasets/assignmnet3_pickles/df_selected_new.p\", \"wb\" ) )"
      ],
      "execution_count": null,
      "outputs": []
    },
    {
      "cell_type": "code",
      "metadata": {
        "id": "1EPhtu70_JVM"
      },
      "source": [
        "import pickle\n",
        "df_selected_new = pickle.load( open(\"/content/drive/MyDrive/Machine_Learning_Assignments_datasets/assignmnet3_pickles/df_selected_new.p\", 'rb')) #load bac\n",
        "#df_p_category_test = pickle.load( open(\"/content/drive/MyDrive/Machine_Learning_Assignments_datasets/assignmnet3_pickles/df_p_category_test_predicted.p\", 'rb')) #load bac"
      ],
      "execution_count": null,
      "outputs": []
    },
    {
      "cell_type": "code",
      "metadata": {
        "id": "Ahfxqcc5CZE-"
      },
      "source": [
        "# dropping duplicate values\n",
        "df_p_category_test.drop_duplicates(keep=False,inplace=True)"
      ],
      "execution_count": null,
      "outputs": []
    },
    {
      "cell_type": "code",
      "metadata": {
        "id": "LtHDGnJkCkFU"
      },
      "source": [
        "list1 = df_selected_new.columns\n",
        "list1=list1.drop(['train_id','category_name','brand_name','item_description'])\n",
        "list1=list1.tolist()"
      ],
      "execution_count": null,
      "outputs": []
    },
    {
      "cell_type": "code",
      "metadata": {
        "id": "finu45S5Du-E"
      },
      "source": [
        "list2 = df_p_category_test.columns\n",
        "list2 = list2.drop(['predicted_category_name'])\n",
        "list2 = list2.tolist()"
      ],
      "execution_count": null,
      "outputs": []
    },
    {
      "cell_type": "code",
      "metadata": {
        "colab": {
          "base_uri": "https://localhost:8080/"
        },
        "id": "aekZs6kbCjtf",
        "outputId": "824998e3-173f-4459-8bc1-549be24690a2"
      },
      "source": [
        "len(list1)"
      ],
      "execution_count": null,
      "outputs": [
        {
          "output_type": "execute_result",
          "data": {
            "text/plain": [
              "23714"
            ]
          },
          "metadata": {
            "tags": []
          },
          "execution_count": 33
        }
      ]
    },
    {
      "cell_type": "code",
      "metadata": {
        "colab": {
          "base_uri": "https://localhost:8080/"
        },
        "id": "queIuwWYCetQ",
        "outputId": "6a8d8233-9d54-4880-b9a7-d1eec30fd7e9"
      },
      "source": [
        "len(list2)"
      ],
      "execution_count": null,
      "outputs": [
        {
          "output_type": "execute_result",
          "data": {
            "text/plain": [
              "23714"
            ]
          },
          "metadata": {
            "tags": []
          },
          "execution_count": 34
        }
      ]
    },
    {
      "cell_type": "code",
      "metadata": {
        "id": "qJpWYUDbSFmL"
      },
      "source": [
        "#del train_category_X\n",
        "#del train_category_y"
      ],
      "execution_count": null,
      "outputs": []
    },
    {
      "cell_type": "code",
      "metadata": {
        "id": "TD20KtPPSdk4"
      },
      "source": [
        "#del test_category_X\n",
        "#del look_up_table_1"
      ],
      "execution_count": null,
      "outputs": []
    },
    {
      "cell_type": "code",
      "metadata": {
        "id": "AGS8B8ex_pdT"
      },
      "source": [
        "merged_df = df_selected_new.merge(df_p_category_test, how='left', left_on=list1, right_on=list2)"
      ],
      "execution_count": null,
      "outputs": []
    },
    {
      "cell_type": "code",
      "metadata": {
        "id": "U-9l0lcl_IK7"
      },
      "source": [
        "import pickle\n",
        "pickle.dump( merged_df, open( \"/content/drive/MyDrive/Machine_Learning_Assignments_datasets/assignmnet3_pickles/merged_df.p\", \"wb\" ) )"
      ],
      "execution_count": null,
      "outputs": []
    },
    {
      "cell_type": "code",
      "metadata": {
        "id": "Gt4OSMd5bqli"
      },
      "source": [
        "import pickle\n",
        "merged_df = pickle.load( open(\"/content/drive/MyDrive/Machine_Learning_Assignments_datasets/assignmnet3_pickles/merged_df.p\", 'rb')) #load bac"
      ],
      "execution_count": null,
      "outputs": []
    },
    {
      "cell_type": "code",
      "metadata": {
        "colab": {
          "base_uri": "https://localhost:8080/"
        },
        "id": "1_OUeSbByvxl",
        "outputId": "db8dfb98-abae-4648-c369-cc8eb0cb133d"
      },
      "source": [
        "merged_df.isnull().sum()"
      ],
      "execution_count": null,
      "outputs": [
        {
          "output_type": "execute_result",
          "data": {
            "text/plain": [
              "train_id                                        0\n",
              "item_condition_id                               0\n",
              "category_name                                6327\n",
              "brand_name                                  19583\n",
              "price                                           0\n",
              "                                            ...  \n",
              "name_is_zumba 4 pack dvd                        0\n",
              "name_is_zumba exhilarate 7 disc package         0\n",
              "name_is_zumiez cat shirts                       0\n",
              "name_is_zutano hat and booties 18 months        0\n",
              "predicted_category_name                     20016\n",
              "Length: 23719, dtype: int64"
            ]
          },
          "metadata": {
            "tags": []
          },
          "execution_count": 4
        }
      ]
    },
    {
      "cell_type": "code",
      "metadata": {
        "id": "m3gpsBi6z1F4"
      },
      "source": [
        "#merged_df.loc[merged_df.category_name.isnull(), 'category_name'] = merged_df.loc[merged_df.category_name.isnull(), 'predicted_category_name']"
      ],
      "execution_count": null,
      "outputs": []
    },
    {
      "cell_type": "code",
      "metadata": {
        "colab": {
          "base_uri": "https://localhost:8080/"
        },
        "id": "bC4GqKctz5w9",
        "outputId": "773d7287-0d53-4a04-8c25-691cec3aa24b"
      },
      "source": [
        "merged_df.isnull().sum()"
      ],
      "execution_count": null,
      "outputs": [
        {
          "output_type": "execute_result",
          "data": {
            "text/plain": [
              "train_id                                        0\n",
              "item_condition_id                               0\n",
              "category_name                                6327\n",
              "brand_name                                  19583\n",
              "price                                           0\n",
              "                                            ...  \n",
              "name_is_zumba 4 pack dvd                        0\n",
              "name_is_zumba exhilarate 7 disc package         0\n",
              "name_is_zumiez cat shirts                       0\n",
              "name_is_zutano hat and booties 18 months        0\n",
              "predicted_category_name                     20016\n",
              "Length: 23719, dtype: int64"
            ]
          },
          "metadata": {
            "tags": []
          },
          "execution_count": 6
        }
      ]
    },
    {
      "cell_type": "code",
      "metadata": {
        "id": "Xt9uLZvJGtcm"
      },
      "source": [
        "#merged_df = merged_df.iloc[:,:-1]"
      ],
      "execution_count": null,
      "outputs": []
    },
    {
      "cell_type": "code",
      "metadata": {
        "colab": {
          "base_uri": "https://localhost:8080/"
        },
        "id": "e9mNEMoSHDvl",
        "outputId": "dfcb5e26-e4c6-4cbe-99a0-047627a7304a"
      },
      "source": [
        "merged_df.isnull().sum()"
      ],
      "execution_count": null,
      "outputs": [
        {
          "output_type": "execute_result",
          "data": {
            "text/plain": [
              "train_id                                        0\n",
              "item_condition_id                               0\n",
              "category_name                                6327\n",
              "brand_name                                  19583\n",
              "price                                           0\n",
              "                                            ...  \n",
              "name_is_zumba 4 pack dvd                        0\n",
              "name_is_zumba exhilarate 7 disc package         0\n",
              "name_is_zumiez cat shirts                       0\n",
              "name_is_zutano hat and booties 18 months        0\n",
              "predicted_category_name                     20016\n",
              "Length: 23719, dtype: int64"
            ]
          },
          "metadata": {
            "tags": []
          },
          "execution_count": 8
        }
      ]
    },
    {
      "cell_type": "code",
      "metadata": {
        "colab": {
          "base_uri": "https://localhost:8080/"
        },
        "id": "ktoxoPNrLWCg",
        "outputId": "6fc5a96b-d7b7-4354-bd95-7470dd75d4e4"
      },
      "source": [
        "df.shape[0]"
      ],
      "execution_count": null,
      "outputs": [
        {
          "output_type": "execute_result",
          "data": {
            "text/plain": [
              "1482535"
            ]
          },
          "metadata": {
            "tags": []
          },
          "execution_count": 19
        }
      ]
    },
    {
      "cell_type": "code",
      "metadata": {
        "colab": {
          "base_uri": "https://localhost:8080/"
        },
        "id": "3Poj4p6bNCOy",
        "outputId": "3f4da723-ee0d-4841-cbed-2ecc13d72830"
      },
      "source": [
        "df['train_id'][0]"
      ],
      "execution_count": null,
      "outputs": [
        {
          "output_type": "execute_result",
          "data": {
            "text/plain": [
              "0"
            ]
          },
          "metadata": {
            "tags": []
          },
          "execution_count": 20
        }
      ]
    },
    {
      "cell_type": "code",
      "metadata": {
        "id": "faTlAT1Ej2UQ"
      },
      "source": [
        "index = df[df['category_name'].isna()].index"
      ],
      "execution_count": null,
      "outputs": []
    },
    {
      "cell_type": "code",
      "metadata": {
        "colab": {
          "base_uri": "https://localhost:8080/"
        },
        "id": "dgRE7GXsgMcY",
        "outputId": "96a5e894-cf3c-4aaa-dab2-0591c64ff94b"
      },
      "source": [
        "print(index)"
      ],
      "execution_count": null,
      "outputs": [
        {
          "output_type": "stream",
          "text": [
            "Int64Index([    122,     155,     258,     984,    1185,    1274,    1320,\n",
            "               1419,    1491,    1521,\n",
            "            ...\n",
            "            1480241, 1480798, 1480949, 1480995, 1481003, 1481249, 1481750,\n",
            "            1482252, 1482443, 1482473],\n",
            "           dtype='int64', length=6327)\n"
          ],
          "name": "stdout"
        }
      ]
    },
    {
      "cell_type": "code",
      "metadata": {
        "colab": {
          "base_uri": "https://localhost:8080/"
        },
        "id": "EUfu_mv_OOAa",
        "outputId": "46136a62-8034-4249-ac86-037fcd8e71dd"
      },
      "source": [
        "len(index)"
      ],
      "execution_count": null,
      "outputs": [
        {
          "output_type": "execute_result",
          "data": {
            "text/plain": [
              "6327"
            ]
          },
          "metadata": {
            "tags": []
          },
          "execution_count": 23
        }
      ]
    },
    {
      "cell_type": "code",
      "metadata": {
        "colab": {
          "base_uri": "https://localhost:8080/"
        },
        "id": "85gj8jBexRe-",
        "outputId": "e9737b78-1348-431e-ec74-bad7a53e55ac"
      },
      "source": [
        "len(df[df['category_name'].isna()].index)"
      ],
      "execution_count": null,
      "outputs": [
        {
          "output_type": "execute_result",
          "data": {
            "text/plain": [
              "6327"
            ]
          },
          "metadata": {
            "tags": []
          },
          "execution_count": 24
        }
      ]
    },
    {
      "cell_type": "code",
      "metadata": {
        "colab": {
          "base_uri": "https://localhost:8080/"
        },
        "id": "N69HSlcxOOHx",
        "outputId": "79c3e716-bfb5-4d78-8faf-4b509d3bf992"
      },
      "source": [
        "merged_df[\"train_id\"].shape[0]"
      ],
      "execution_count": null,
      "outputs": [
        {
          "output_type": "execute_result",
          "data": {
            "text/plain": [
              "26327"
            ]
          },
          "metadata": {
            "tags": []
          },
          "execution_count": 25
        }
      ]
    },
    {
      "cell_type": "code",
      "metadata": {
        "id": "3bzGL4m_Mtbf",
        "colab": {
          "base_uri": "https://localhost:8080/"
        },
        "outputId": "6f0cae7b-d597-4333-8f5b-83935c97c4a2"
      },
      "source": [
        "for i in index:\n",
        "  for e in range(merged_df[\"train_id\"].shape[0]):\n",
        "    if df[\"train_id\"][i] == merged_df[\"train_id\"][e]:\n",
        "      df[\"category_name\"][i]=merged_df[\"predicted_category_name\"][e]\n",
        "      break"
      ],
      "execution_count": null,
      "outputs": [
        {
          "output_type": "stream",
          "text": [
            "/usr/local/lib/python3.7/dist-packages/ipykernel_launcher.py:4: SettingWithCopyWarning: \n",
            "A value is trying to be set on a copy of a slice from a DataFrame\n",
            "\n",
            "See the caveats in the documentation: https://pandas.pydata.org/pandas-docs/stable/user_guide/indexing.html#returning-a-view-versus-a-copy\n",
            "  after removing the cwd from sys.path.\n"
          ],
          "name": "stderr"
        }
      ]
    },
    {
      "cell_type": "code",
      "metadata": {
        "id": "k3R2YeKmIu5G",
        "colab": {
          "base_uri": "https://localhost:8080/"
        },
        "outputId": "f69de7b2-895a-4730-d5fc-db95cc2be733"
      },
      "source": [
        "df.isnull().sum()"
      ],
      "execution_count": null,
      "outputs": [
        {
          "output_type": "execute_result",
          "data": {
            "text/plain": [
              "train_id                  0\n",
              "name                      0\n",
              "item_condition_id         0\n",
              "category_name            51\n",
              "brand_name           632682\n",
              "price                     0\n",
              "shipping                  0\n",
              "item_description          4\n",
              "dtype: int64"
            ]
          },
          "metadata": {
            "tags": []
          },
          "execution_count": 27
        }
      ]
    },
    {
      "cell_type": "markdown",
      "metadata": {
        "id": "67OD7H1R0IBH"
      },
      "source": [
        "After filling nan values with a predicted values from a neural network with accuracy , we are going to drop any other missing values in another columns , and imputing the brand feature with the same prediction solution is doable , but the sparsity of the columns of the features and the training time takes alot of time and there is alot of missing values in it and colab ram can't handel doing all of that in one active session,so just because of that reason we are going to drop the missing values from that column.\n",
        "and encoding the data with the label encoder."
      ]
    },
    {
      "cell_type": "code",
      "metadata": {
        "id": "GgiYU4NL9Bcu"
      },
      "source": [
        "#pickle.dump( df, open( \"/content/drive/MyDrive/Machine_Learning_Assignments_datasets/assignmnet3_pickles/df.p\", \"wb\" ) )"
      ],
      "execution_count": null,
      "outputs": []
    },
    {
      "cell_type": "code",
      "metadata": {
        "id": "kVOg8YYl-qXF"
      },
      "source": [
        "import pickle\n",
        "df = pickle.load( open(\"/content/drive/MyDrive/Machine_Learning_Assignments_datasets/assignmnet3_pickles/df.p\", 'rb')) #load bac"
      ],
      "execution_count": null,
      "outputs": []
    },
    {
      "cell_type": "code",
      "metadata": {
        "id": "V_R749h7CoG0"
      },
      "source": [
        "'''-----------------Drop Missing Values in Data Fram------------------'''\n",
        "# drop all rows that has missing values from the data \n",
        "df.dropna(axis=0, how='any',inplace=True)"
      ],
      "execution_count": null,
      "outputs": []
    },
    {
      "cell_type": "code",
      "metadata": {
        "colab": {
          "base_uri": "https://localhost:8080/"
        },
        "id": "enl4cmOq8dCa",
        "outputId": "f23888f2-6bdb-495f-ed54-4c02a94b7655"
      },
      "source": [
        "df.isnull().sum()"
      ],
      "execution_count": null,
      "outputs": [
        {
          "output_type": "execute_result",
          "data": {
            "text/plain": [
              "train_id             0\n",
              "name                 0\n",
              "item_condition_id    0\n",
              "category_name        0\n",
              "brand_name           0\n",
              "price                0\n",
              "shipping             0\n",
              "item_description     0\n",
              "dtype: int64"
            ]
          },
          "metadata": {
            "tags": []
          },
          "execution_count": 6
        }
      ]
    },
    {
      "cell_type": "code",
      "metadata": {
        "colab": {
          "base_uri": "https://localhost:8080/",
          "height": 402
        },
        "id": "1ZvYY43f8gOA",
        "outputId": "f478b830-1cf6-43d4-9e10-f2307ab515f3"
      },
      "source": [
        "df"
      ],
      "execution_count": null,
      "outputs": [
        {
          "output_type": "execute_result",
          "data": {
            "text/html": [
              "<div>\n",
              "<style scoped>\n",
              "    .dataframe tbody tr th:only-of-type {\n",
              "        vertical-align: middle;\n",
              "    }\n",
              "\n",
              "    .dataframe tbody tr th {\n",
              "        vertical-align: top;\n",
              "    }\n",
              "\n",
              "    .dataframe thead th {\n",
              "        text-align: right;\n",
              "    }\n",
              "</style>\n",
              "<table border=\"1\" class=\"dataframe\">\n",
              "  <thead>\n",
              "    <tr style=\"text-align: right;\">\n",
              "      <th></th>\n",
              "      <th>train_id</th>\n",
              "      <th>name</th>\n",
              "      <th>item_condition_id</th>\n",
              "      <th>category_name</th>\n",
              "      <th>brand_name</th>\n",
              "      <th>price</th>\n",
              "      <th>shipping</th>\n",
              "      <th>item_description</th>\n",
              "    </tr>\n",
              "  </thead>\n",
              "  <tbody>\n",
              "    <tr>\n",
              "      <th>1</th>\n",
              "      <td>1</td>\n",
              "      <td>razer blackwidow chroma keyboard</td>\n",
              "      <td>3</td>\n",
              "      <td>electronics computers   tablets components   p...</td>\n",
              "      <td>razer</td>\n",
              "      <td>52.0</td>\n",
              "      <td>0</td>\n",
              "      <td>this keyboard is in great condition and works ...</td>\n",
              "    </tr>\n",
              "    <tr>\n",
              "      <th>2</th>\n",
              "      <td>2</td>\n",
              "      <td>ava viv blouse</td>\n",
              "      <td>1</td>\n",
              "      <td>women tops   blouses blouse</td>\n",
              "      <td>target</td>\n",
              "      <td>10.0</td>\n",
              "      <td>1</td>\n",
              "      <td>adorable top with a hint of lace and a key hol...</td>\n",
              "    </tr>\n",
              "    <tr>\n",
              "      <th>6</th>\n",
              "      <td>6</td>\n",
              "      <td>acacia pacific tides santorini top</td>\n",
              "      <td>3</td>\n",
              "      <td>women swimwear two piece</td>\n",
              "      <td>acacia swimwear</td>\n",
              "      <td>64.0</td>\n",
              "      <td>0</td>\n",
              "      <td>size small but straps slightly shortened to fi...</td>\n",
              "    </tr>\n",
              "    <tr>\n",
              "      <th>7</th>\n",
              "      <td>7</td>\n",
              "      <td>girls cheer and tumbling bundle of 7</td>\n",
              "      <td>3</td>\n",
              "      <td>sports   outdoors apparel girls</td>\n",
              "      <td>soffe</td>\n",
              "      <td>6.0</td>\n",
              "      <td>1</td>\n",
              "      <td>you get three pairs of sophie cheer shorts siz...</td>\n",
              "    </tr>\n",
              "    <tr>\n",
              "      <th>8</th>\n",
              "      <td>8</td>\n",
              "      <td>girls nike pro shorts</td>\n",
              "      <td>3</td>\n",
              "      <td>sports   outdoors apparel girls</td>\n",
              "      <td>nike</td>\n",
              "      <td>19.0</td>\n",
              "      <td>0</td>\n",
              "      <td>girls size small plus green  three shorts total</td>\n",
              "    </tr>\n",
              "    <tr>\n",
              "      <th>...</th>\n",
              "      <td>...</td>\n",
              "      <td>...</td>\n",
              "      <td>...</td>\n",
              "      <td>...</td>\n",
              "      <td>...</td>\n",
              "      <td>...</td>\n",
              "      <td>...</td>\n",
              "      <td>...</td>\n",
              "    </tr>\n",
              "    <tr>\n",
              "      <th>1482525</th>\n",
              "      <td>1482525</td>\n",
              "      <td>red victoria s secret bra w sequins</td>\n",
              "      <td>2</td>\n",
              "      <td>women underwear bras</td>\n",
              "      <td>pink</td>\n",
              "      <td>7.0</td>\n",
              "      <td>1</td>\n",
              "      <td>removable straps to make strapless size  34 b ...</td>\n",
              "    </tr>\n",
              "    <tr>\n",
              "      <th>1482528</th>\n",
              "      <td>1482528</td>\n",
              "      <td>victoria s secret tankini sz  large</td>\n",
              "      <td>2</td>\n",
              "      <td>women athletic apparel sports bras</td>\n",
              "      <td>victoria s secret</td>\n",
              "      <td>18.0</td>\n",
              "      <td>1</td>\n",
              "      <td>purple and paisley victoria s secret tankini s...</td>\n",
              "    </tr>\n",
              "    <tr>\n",
              "      <th>1482529</th>\n",
              "      <td>1482529</td>\n",
              "      <td>men s ua  rm</td>\n",
              "      <td>2</td>\n",
              "      <td>men athletic apparel shirts   tops</td>\n",
              "      <td>under armour</td>\n",
              "      <td>34.0</td>\n",
              "      <td>0</td>\n",
              "      <td>rm  for the set both in perfect condition no ...</td>\n",
              "    </tr>\n",
              "    <tr>\n",
              "      <th>1482530</th>\n",
              "      <td>1482530</td>\n",
              "      <td>free people inspired dress</td>\n",
              "      <td>2</td>\n",
              "      <td>women dresses mid calf</td>\n",
              "      <td>free people</td>\n",
              "      <td>20.0</td>\n",
              "      <td>1</td>\n",
              "      <td>lace  says size small but fits medium perfectl...</td>\n",
              "    </tr>\n",
              "    <tr>\n",
              "      <th>1482531</th>\n",
              "      <td>1482531</td>\n",
              "      <td>little mermaid handmade dress</td>\n",
              "      <td>2</td>\n",
              "      <td>kids girls 2t 5t dresses</td>\n",
              "      <td>disney</td>\n",
              "      <td>14.0</td>\n",
              "      <td>0</td>\n",
              "      <td>little mermaid handmade dress never worn size 2t</td>\n",
              "    </tr>\n",
              "  </tbody>\n",
              "</table>\n",
              "<p>849824 rows × 8 columns</p>\n",
              "</div>"
            ],
            "text/plain": [
              "         train_id  ...                                   item_description\n",
              "1               1  ...  this keyboard is in great condition and works ...\n",
              "2               2  ...  adorable top with a hint of lace and a key hol...\n",
              "6               6  ...  size small but straps slightly shortened to fi...\n",
              "7               7  ...  you get three pairs of sophie cheer shorts siz...\n",
              "8               8  ...   girls size small plus green  three shorts total \n",
              "...           ...  ...                                                ...\n",
              "1482525   1482525  ...  removable straps to make strapless size  34 b ...\n",
              "1482528   1482528  ...  purple and paisley victoria s secret tankini s...\n",
              "1482529   1482529  ...   rm  for the set both in perfect condition no ...\n",
              "1482530   1482530  ...  lace  says size small but fits medium perfectl...\n",
              "1482531   1482531  ...   little mermaid handmade dress never worn size 2t\n",
              "\n",
              "[849824 rows x 8 columns]"
            ]
          },
          "metadata": {
            "tags": []
          },
          "execution_count": 7
        }
      ]
    },
    {
      "cell_type": "markdown",
      "metadata": {
        "id": "6OhtdMinZ3rj"
      },
      "source": [
        "now the data is ready to be used.."
      ]
    },
    {
      "cell_type": "markdown",
      "metadata": {
        "id": "HeL5fIKY-JlD"
      },
      "source": [
        "there are features that are not important to train our model with so we simply can remove them like: train_id, item_description"
      ]
    },
    {
      "cell_type": "code",
      "metadata": {
        "id": "NIQMhEmN-aqM"
      },
      "source": [
        "df=df.iloc[:, 1:-1]"
      ],
      "execution_count": null,
      "outputs": []
    },
    {
      "cell_type": "code",
      "metadata": {
        "id": "OEtcciXj-amp"
      },
      "source": [
        "df=df[[\"name\",\"item_condition_id\",\"category_name\",\"brand_name\",\"shipping\",\"price\"]]"
      ],
      "execution_count": null,
      "outputs": []
    },
    {
      "cell_type": "code",
      "metadata": {
        "colab": {
          "base_uri": "https://localhost:8080/"
        },
        "id": "292UbbDngXwC",
        "outputId": "b9192cf3-4da7-45cc-f95c-9893080cfee9"
      },
      "source": [
        "df.isnull().sum()"
      ],
      "execution_count": null,
      "outputs": [
        {
          "output_type": "execute_result",
          "data": {
            "text/plain": [
              "name                 0\n",
              "item_condition_id    0\n",
              "category_name        0\n",
              "brand_name           0\n",
              "shipping             0\n",
              "price                0\n",
              "dtype: int64"
            ]
          },
          "metadata": {
            "tags": []
          },
          "execution_count": 10
        }
      ]
    },
    {
      "cell_type": "code",
      "metadata": {
        "id": "kkDbKSCjc7yl"
      },
      "source": [
        "#label encoding\n",
        "Labelencoder = LabelEncoder()\n",
        "encoder = OrdinalEncoder()\n",
        "\n",
        "# Encoding data\n",
        "df[\"item_condition_id\"] = encoder.fit_transform(df[\"item_condition_id\"].values.reshape(-1, 1))\n",
        "df[\"name\"] = Labelencoder.fit_transform(df[\"name\"])\n",
        "df[\"category_name\"] = Labelencoder.fit_transform(df[\"category_name\"])\n",
        "df[\"brand_name\"] = Labelencoder.fit_transform(df[\"brand_name\"])\n",
        "df=df[[\"name\"\t,\"item_condition_id\"\t,\"category_name\"\t,\"brand_name\",\"shipping\",\t\"price\"\t]]"
      ],
      "execution_count": null,
      "outputs": []
    },
    {
      "cell_type": "markdown",
      "metadata": {
        "id": "MdQsxfBP-p7c"
      },
      "source": [
        "#### Feature Scaling"
      ]
    },
    {
      "cell_type": "code",
      "metadata": {
        "id": "coaamCEe_lIo"
      },
      "source": [
        "numeric_f = [\"name\"]\n",
        "df[numeric_f] = df[numeric_f].apply(lambda x: (x-x.mean())/ x.std(), axis=0)\n",
        "\n",
        "numeric_f = [\"category_name\"]\n",
        "df[numeric_f] = df[numeric_f].apply(lambda x: (x-x.mean())/ x.std(), axis=0)\n",
        "\n",
        "numeric_f = [\"item_condition_id\"]\n",
        "df[numeric_f] = df[numeric_f].apply(lambda x: (x-x.mean())/ x.std(), axis=0)\n",
        "\n",
        "numeric_f = [\"shipping\"]\n",
        "df[numeric_f] = df[numeric_f].apply(lambda x: (x-x.mean())/ x.std(), axis=0)\n",
        "\n",
        "df[\"price\"]=np.log1p(df[\"price\"])"
      ],
      "execution_count": null,
      "outputs": []
    },
    {
      "cell_type": "markdown",
      "metadata": {
        "id": "9T0yEDr_zMfw"
      },
      "source": [
        "#### Feature selection"
      ]
    },
    {
      "cell_type": "markdown",
      "metadata": {
        "id": "3FXSWf5vabZW"
      },
      "source": [
        "Feature selection by ExtraTreesRegressor(model based). ExtraTreesRegressor helps us find the features which are most important."
      ]
    },
    {
      "cell_type": "code",
      "metadata": {
        "id": "0eK_XcedaEqe"
      },
      "source": [
        "from sklearn.ensemble import RandomForestRegressor\n",
        "from sklearn.model_selection import train_test_split\n",
        "from sklearn.metrics import mean_squared_error as mse\n",
        "\n",
        "from sklearn.ensemble import ExtraTreesRegressor\n",
        "from sklearn.model_selection import train_test_split\n",
        "from sklearn.metrics import accuracy_score as acc"
      ],
      "execution_count": null,
      "outputs": []
    },
    {
      "cell_type": "code",
      "metadata": {
        "id": "x-EPOvbJaEt-",
        "colab": {
          "base_uri": "https://localhost:8080/",
          "height": 318
        },
        "outputId": "9e6773ab-fa6a-4688-8a8f-88b1aea20f20"
      },
      "source": [
        "X_train, X_test, Y_train, Y_test = train_test_split(\n",
        "    df.iloc[:,:-1],\n",
        "    df.iloc[:,-1],\n",
        "    test_size=0.3,\n",
        "    random_state=0)\n",
        "\n",
        "# size of train data set\n",
        "print(X_train.shape)\n",
        "\n",
        "# size of test data set\n",
        "print(X_test.shape)\n",
        "\n",
        "reg= ExtraTreesRegressor()\n",
        "reg.fit(X_train,Y_train)\n",
        "\n",
        "#Let us print the features importance.\n",
        "print(reg.feature_importances_)\n",
        "\n",
        "feat_importances = pd.Series(reg.feature_importances_, index=X_train.columns)\n",
        "feat_importances.nlargest(5).plot(kind='barh')\n",
        "plt.show()"
      ],
      "execution_count": null,
      "outputs": [
        {
          "output_type": "stream",
          "text": [
            "(594876, 5)\n",
            "(254948, 5)\n",
            "[0.39856087 0.03415442 0.31204915 0.22388881 0.03134675]\n"
          ],
          "name": "stdout"
        },
        {
          "output_type": "display_data",
          "data": {
            "image/png": "[encoded data removed]",
            "text/plain": [
              "<Figure size 432x288 with 1 Axes>"
            ]
          },
          "metadata": {
            "tags": [],
            "needs_background": "light"
          }
        }
      ]
    },
    {
      "cell_type": "markdown",
      "metadata": {
        "id": "I40yz03hazsU"
      },
      "source": [
        "Based on plot above, we can select the features which will be most important for our prediction model.\n",
        "\n",
        "**shipping** and **item condition id** are not important so we can easily ignore them"
      ]
    },
    {
      "cell_type": "code",
      "metadata": {
        "id": "C-8_sbYD2AkB"
      },
      "source": [
        "#ignore shipping and item_condition_id\n",
        "df=df[[\"name\"\t,\"category_name\"\t,\"brand_name\",\t\"price\"\t]]"
      ],
      "execution_count": null,
      "outputs": []
    },
    {
      "cell_type": "markdown",
      "metadata": {
        "id": "h3IPRZRq0sKT"
      },
      "source": [
        "### Splitting data"
      ]
    },
    {
      "cell_type": "code",
      "metadata": {
        "id": "dKgSvMwtia7Q"
      },
      "source": [
        "# Spliting our data\n",
        "X = df.iloc[:, :-1] \n",
        "Y = df[\"price\"]\n",
        "X_train, X_test, Y_train, Y_test = train_test_split(X, Y, test_size = 0.30, random_state = 0) "
      ],
      "execution_count": null,
      "outputs": []
    },
    {
      "cell_type": "code",
      "metadata": {
        "colab": {
          "base_uri": "https://localhost:8080/"
        },
        "id": "50vH1L2dfe7Z",
        "outputId": "90d23c07-95e7-48d5-c107-91dc8ee403fc"
      },
      "source": [
        "print(X_train.shape)\n",
        "print(Y_train.shape)\n",
        "print(\"\")\n",
        "print(X_test.shape)\n",
        "print(Y_test.shape)"
      ],
      "execution_count": null,
      "outputs": [
        {
          "output_type": "stream",
          "text": [
            "(594876, 3)\n",
            "(594876,)\n",
            "\n",
            "(254948, 3)\n",
            "(254948,)\n"
          ],
          "name": "stdout"
        }
      ]
    },
    {
      "cell_type": "markdown",
      "metadata": {
        "id": "fFg2R7DWLZAg"
      },
      "source": [
        "# 5.Select a model and train it.\n"
      ]
    },
    {
      "cell_type": "markdown",
      "metadata": {
        "id": "-5zammmid1og"
      },
      "source": [
        "### Decision Tree Regressor"
      ]
    },
    {
      "cell_type": "code",
      "metadata": {
        "id": "c7rZ_8Uq4V92"
      },
      "source": [
        "import seaborn as sns"
      ],
      "execution_count": null,
      "outputs": []
    },
    {
      "cell_type": "code",
      "metadata": {
        "id": "zshFCAAC_nMT",
        "colab": {
          "base_uri": "https://localhost:8080/"
        },
        "outputId": "2ed5bf5b-1e66-4793-a4cc-6c6041ac2c3a"
      },
      "source": [
        "from sklearn.tree import DecisionTreeRegressor\n",
        "\n",
        "reg_decision_model = DecisionTreeRegressor()\n",
        "\n",
        "# fit independent varaibles to the dependent variables\n",
        "reg_decision_model.fit(X_train,Y_train)\n",
        "\n",
        "print(reg_decision_model.score(X_train,Y_train))\n",
        "print(reg_decision_model.score(X_test,Y_test))\n",
        "\n",
        "# Decision Tree Model Evaluation\n",
        "\n",
        "#Y_predict = reg_decision_model.predict(X_test)\n",
        "Y_predict = np.expm1(reg_decision_model.predict(X_test))\n",
        "Y_test=np.expm1(Y_test)\n",
        "\n",
        "# without hyperparameter tuning \n",
        "\n",
        "from sklearn import metrics\n",
        "from sklearn.metrics import r2_score\n",
        "\n",
        "print('MAE:', metrics.mean_absolute_error(Y_test, Y_predict))\n",
        "print('MSE:', metrics.mean_squared_error(Y_test, Y_predict))\n",
        "print('RMSE:', np.sqrt(metrics.mean_squared_error(Y_test, Y_predict)))\n",
        "# The coefficient of determination: 1 is perfect prediction\n",
        "print('Coefficient of determination: %.2f' % r2_score(Y_test, Y_predict))"
      ],
      "execution_count": null,
      "outputs": [
        {
          "output_type": "stream",
          "text": [
            "0.9547304306498604\n",
            "0.235680400809416\n",
            "MAE: 16.451538579331366\n",
            "MSE: 1874.6720583849715\n",
            "RMSE: 43.297483280035706\n",
            "Coefficient of determination: 0.08\n"
          ],
          "name": "stdout"
        }
      ]
    },
    {
      "cell_type": "code",
      "metadata": {
        "colab": {
          "base_uri": "https://localhost:8080/",
          "height": 357
        },
        "id": "4rkO3J7t2x8L",
        "outputId": "9bd7097c-086b-42df-bcba-8a9f26385aed"
      },
      "source": [
        "# checking difference between labled y and predicted y\n",
        "sns.distplot(Y_test-Y_predict)"
      ],
      "execution_count": null,
      "outputs": [
        {
          "output_type": "stream",
          "text": [
            "/usr/local/lib/python3.7/dist-packages/seaborn/distributions.py:2557: FutureWarning: `distplot` is a deprecated function and will be removed in a future version. Please adapt your code to use either `displot` (a figure-level function with similar flexibility) or `histplot` (an axes-level function for histograms).\n",
            "  warnings.warn(msg, FutureWarning)\n"
          ],
          "name": "stderr"
        },
        {
          "output_type": "execute_result",
          "data": {
            "text/plain": [
              "<matplotlib.axes._subplots.AxesSubplot at 0x7f2352297e10>"
            ]
          },
          "metadata": {
            "tags": []
          },
          "execution_count": 64
        },
        {
          "output_type": "display_data",
          "data": {
            "image/png": "[encoded data removed]",
            "text/plain": [
              "<Figure size 432x288 with 1 Axes>"
            ]
          },
          "metadata": {
            "tags": [],
            "needs_background": "light"
          }
        }
      ]
    },
    {
      "cell_type": "markdown",
      "metadata": {
        "id": "HdmtjbpCk-7H"
      },
      "source": [
        "We are getting nearly bell shape curve but that does not mean our model working good, we cant tell. Good bell curve only tell us the range of predicted values are with in the same range as our original data range values are."
      ]
    },
    {
      "cell_type": "code",
      "metadata": {
        "colab": {
          "base_uri": "https://localhost:8080/",
          "height": 285
        },
        "id": "wCEsdqM-dtzh",
        "outputId": "d505c811-87ef-44eb-ced7-713065f217c7"
      },
      "source": [
        "#checking predicted y and labeled y using a scatter plot.\n",
        "plt.scatter(Y_test,Y_predict)"
      ],
      "execution_count": null,
      "outputs": [
        {
          "output_type": "execute_result",
          "data": {
            "text/plain": [
              "<matplotlib.collections.PathCollection at 0x7f234f9d6f10>"
            ]
          },
          "metadata": {
            "tags": []
          },
          "execution_count": 22
        },
        {
          "output_type": "display_data",
          "data": {
            "image/png": "[encoded data removed]",
            "text/plain": [
              "<Figure size 432x288 with 1 Axes>"
            ]
          },
          "metadata": {
            "tags": [],
            "needs_background": "light"
          }
        }
      ]
    },
    {
      "cell_type": "markdown",
      "metadata": {
        "id": "ucikRxA2LZDG"
      },
      "source": [
        "# 6.Fine-tune your model.\n"
      ]
    },
    {
      "cell_type": "markdown",
      "metadata": {
        "id": "Zs4wUHRJuUSu"
      },
      "source": [
        "### Hyper Parameter tuning"
      ]
    },
    {
      "cell_type": "markdown",
      "metadata": {
        "id": "Dn0pxtMcuXbt"
      },
      "source": [
        "### using RandomizedSearchCV"
      ]
    },
    {
      "cell_type": "code",
      "metadata": {
        "id": "NDHDu59n8fEu"
      },
      "source": [
        "from sklearn.model_selection import RandomizedSearchCV\n",
        "from scipy.stats import randint as sp_randint\n",
        "\n",
        "param_dist = {'max_depth': sp_randint(2,16),\n",
        "              'min_samples_split': sp_randint(2,16)}\n",
        "\n",
        "n_iter_search = 20\n",
        "clfrs = RandomizedSearchCV(DecisionTreeRegressor(), \n",
        "                                   param_distributions=param_dist,\n",
        "                                   scoring='neg_mean_absolute_error',\n",
        "                                   cv=5 , n_jobs=1, verbose=1,\n",
        "                                   n_iter=n_iter_search)"
      ],
      "execution_count": null,
      "outputs": []
    },
    {
      "cell_type": "code",
      "metadata": {
        "colab": {
          "base_uri": "https://localhost:8080/"
        },
        "id": "yH97fpMTzoh6",
        "outputId": "b12b6ac5-92d8-4689-a6cf-10b380c8f650"
      },
      "source": [
        "clfrs.fit(X,Y)"
      ],
      "execution_count": null,
      "outputs": [
        {
          "output_type": "stream",
          "text": [
            "Fitting 5 folds for each of 20 candidates, totalling 100 fits\n"
          ],
          "name": "stdout"
        },
        {
          "output_type": "stream",
          "text": [
            "[Parallel(n_jobs=1)]: Using backend SequentialBackend with 1 concurrent workers.\n",
            "[Parallel(n_jobs=1)]: Done 100 out of 100 | elapsed:  2.6min finished\n"
          ],
          "name": "stderr"
        },
        {
          "output_type": "execute_result",
          "data": {
            "text/plain": [
              "RandomizedSearchCV(cv=5, error_score=nan,\n",
              "                   estimator=DecisionTreeRegressor(ccp_alpha=0.0,\n",
              "                                                   criterion='mse',\n",
              "                                                   max_depth=None,\n",
              "                                                   max_features=None,\n",
              "                                                   max_leaf_nodes=None,\n",
              "                                                   min_impurity_decrease=0.0,\n",
              "                                                   min_impurity_split=None,\n",
              "                                                   min_samples_leaf=1,\n",
              "                                                   min_samples_split=2,\n",
              "                                                   min_weight_fraction_leaf=0.0,\n",
              "                                                   presort='deprecated',\n",
              "                                                   random_state=None,\n",
              "                                                   splitter='best'),\n",
              "                   iid='deprecated', n_iter=20, n_jobs=1,\n",
              "                   param_distributions={'max_depth': <scipy.stats._distn_infrastructure.rv_frozen object at 0x7f2351ebc110>,\n",
              "                                        'min_samples_split': <scipy.stats._distn_infrastructure.rv_frozen object at 0x7f2351a04d90>},\n",
              "                   pre_dispatch='2*n_jobs', random_state=None, refit=True,\n",
              "                   return_train_score=False, scoring='neg_mean_absolute_error',\n",
              "                   verbose=1)"
            ]
          },
          "metadata": {
            "tags": []
          },
          "execution_count": 43
        }
      ]
    },
    {
      "cell_type": "code",
      "metadata": {
        "colab": {
          "base_uri": "https://localhost:8080/"
        },
        "id": "hikcG5CG_SwR",
        "outputId": "21e5ee26-5a86-485b-b988-2854a2af76f5"
      },
      "source": [
        "clfrs.cv_results_\n",
        "    \n",
        "clfrs.best_params_, clfrs.best_score_"
      ],
      "execution_count": null,
      "outputs": [
        {
          "output_type": "execute_result",
          "data": {
            "text/plain": [
              "({'max_depth': 15, 'min_samples_split': 7}, -0.4327805742792111)"
            ]
          },
          "metadata": {
            "tags": []
          },
          "execution_count": 49
        }
      ]
    },
    {
      "cell_type": "markdown",
      "metadata": {
        "id": "d8YVyHBku_v3"
      },
      "source": [
        "##### Training Decision Tree With Best Hyperparameters"
      ]
    },
    {
      "cell_type": "code",
      "metadata": {
        "id": "uTzLdUVMAgjX"
      },
      "source": [
        "X_train, X_test, Y_train, Y_test = train_test_split(X, Y, test_size = 0.30, random_state = 0) "
      ],
      "execution_count": null,
      "outputs": []
    },
    {
      "cell_type": "code",
      "metadata": {
        "colab": {
          "base_uri": "https://localhost:8080/"
        },
        "id": "0qKG4JD6Ang4",
        "outputId": "7306da98-c3b0-442b-8088-eea63a1d8999"
      },
      "source": [
        "tuned_hyper_model = DecisionTreeRegressor(max_depth=15, min_samples_split=7)\n",
        "\n",
        "# fit independent varaibles to the dependent variables\n",
        "tuned_hyper_model.fit(X_train,Y_train)\n",
        "\n",
        "print(tuned_hyper_model.score(X_test , Y_test))\n",
        "\n",
        "tuned_pred = np.expm1(tuned_hyper_model.predict(X_test))\n",
        "Y_test=np.expm1(Y_test)"
      ],
      "execution_count": null,
      "outputs": [
        {
          "output_type": "stream",
          "text": [
            "0.41591381060505905\n"
          ],
          "name": "stdout"
        }
      ]
    },
    {
      "cell_type": "code",
      "metadata": {
        "colab": {
          "base_uri": "https://localhost:8080/"
        },
        "id": "PrGi4ucT8zxX",
        "outputId": "2ddcf65a-a1da-4d08-de5a-84996864be98"
      },
      "source": [
        "# With hyperparameter tuning \n",
        "\n",
        "from sklearn import metrics\n",
        "from sklearn.metrics import r2_score\n",
        "\n",
        "print('MAE:', metrics.mean_absolute_error(Y_test, Y_predict))\n",
        "print('MSE:', metrics.mean_squared_error(Y_test, Y_predict))\n",
        "print('RMSE:', np.sqrt(metrics.mean_squared_error(Y_test, Y_predict)))\n",
        "# The coefficient of determination: 1 is perfect prediction\n",
        "print('Coefficient of determination: %.2f' % r2_score(Y_test, Y_predict))"
      ],
      "execution_count": null,
      "outputs": [
        {
          "output_type": "stream",
          "text": [
            "MAE: 14.49293166084097\n",
            "MSE: 1449.9674442249784\n",
            "RMSE: 38.07843804865134\n",
            "Coefficient of determination: 0.29\n"
          ],
          "name": "stdout"
        }
      ]
    },
    {
      "cell_type": "markdown",
      "metadata": {
        "id": "giJU_EleAuOm"
      },
      "source": [
        "it is better than before"
      ]
    },
    {
      "cell_type": "markdown",
      "metadata": {
        "id": "H-XklEisepLp"
      },
      "source": [
        "Let us compare now Error rate of our model with hyper tuning of paramerters to our original model which is without the tuning of parameters."
      ]
    },
    {
      "cell_type": "code",
      "metadata": {
        "id": "oz2fQivTef23",
        "colab": {
          "base_uri": "https://localhost:8080/"
        },
        "outputId": "93a89fbd-08f4-4cf4-b9fe-5b2fa01d3bd3"
      },
      "source": [
        "# With hyperparameter tuned \n",
        "\n",
        "from sklearn import metrics\n",
        "\n",
        "print('MAE:', metrics.mean_absolute_error(Y_test,tuned_pred))\n",
        "print('MSE:', metrics.mean_squared_error(Y_test, tuned_pred))\n",
        "print('RMSE:', np.sqrt(metrics.mean_squared_error(Y_test, tuned_pred)))\n",
        "# The coefficient of determination: 1 is perfect prediction\n",
        "print('Coefficient of determination: %.2f' % r2_score(Y_test, tuned_pred))"
      ],
      "execution_count": null,
      "outputs": [
        {
          "output_type": "stream",
          "text": [
            "MAE: 14.492088517223298\n",
            "MSE: 1450.12143283781\n",
            "RMSE: 38.08045998721405\n",
            "Coefficient of determination: 0.29\n"
          ],
          "name": "stdout"
        }
      ]
    },
    {
      "cell_type": "code",
      "metadata": {
        "id": "VxMp98e8ef6h",
        "colab": {
          "base_uri": "https://localhost:8080/"
        },
        "outputId": "e6b34700-17d0-48d7-a991-0a621c46299c"
      },
      "source": [
        "# without hyperparameter tuning \n",
        "\n",
        "from sklearn import metrics\n",
        "\n",
        "print('MAE:', metrics.mean_absolute_error(Y_test,Y_predict))\n",
        "print('MSE:', metrics.mean_squared_error(Y_test, Y_predict))\n",
        "print('RMSE:', np.sqrt(metrics.mean_squared_error(Y_test, Y_predict)))\n",
        "# The coefficient of determination: 1 is perfect prediction\n",
        "print('Coefficient of determination: %.2f' % r2_score(Y_test, Y_predict))"
      ],
      "execution_count": null,
      "outputs": [
        {
          "output_type": "stream",
          "text": [
            "MAE: 16.451538579331366\n",
            "MSE: 1874.6720583849715\n",
            "RMSE: 43.297483280035706\n",
            "Coefficient of determination: 0.08\n"
          ],
          "name": "stdout"
        }
      ]
    },
    {
      "cell_type": "markdown",
      "metadata": {
        "id": "Sr_cLAiRewRK"
      },
      "source": [
        "Conclusion\n",
        "If you observe the above metrics for both the models, the error got decreased with hyperparameter tuning model compare to model without hyper parameter tuning."
      ]
    },
    {
      "cell_type": "markdown",
      "metadata": {
        "id": "VqQ6OqTUvxwL"
      },
      "source": [
        "# **Conclusion:**\n",
        ">\n",
        ">> If you observe the above metrics for both the models, the error got decreased with hyperparameter tuning model compare to model without hyper parameter tuning.\n",
        ">\n",
        ">> **With:**\n",
        ">> \n",
        ">>**MAE:** 14.492088517223298\n",
        ">>\n",
        ">>**MSE:** 1450.12143283781\n",
        ">>\n",
        ">>**RMSE:** 38.08045998721405\n",
        ">>\n",
        ">>**Coefficient of determination:** 0.29\n",
        ">>\n",
        ">> This is the best result i got. \n"
      ]
    },
    {
      "cell_type": "code",
      "metadata": {
        "id": "Dcja4Fu-Dj4h"
      },
      "source": [
        ""
      ],
      "execution_count": null,
      "outputs": []
    }
  ]
}